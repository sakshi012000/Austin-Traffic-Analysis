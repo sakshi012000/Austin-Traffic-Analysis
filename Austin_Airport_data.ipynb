{
  "nbformat": 4,
  "nbformat_minor": 0,
  "metadata": {
    "colab": {
      "name": "Austin_Airport_data.ipynb",
      "provenance": []
    },
    "kernelspec": {
      "name": "python3",
      "display_name": "Python 3"
    },
    "language_info": {
      "name": "python"
    }
  },
  "cells": [
    {
      "cell_type": "code",
      "metadata": {
        "id": "TWK7IMWA0dJD",
        "colab": {
          "base_uri": "https://localhost:8080/"
        },
        "outputId": "8e7f5093-0e30-46d9-f9bc-1a8f008259a9"
      },
      "source": [
        "from google.colab import drive\n",
        "drive.mount('/content/drive')"
      ],
      "execution_count": 148,
      "outputs": [
        {
          "output_type": "stream",
          "text": [
            "Drive already mounted at /content/drive; to attempt to forcibly remount, call drive.mount(\"/content/drive\", force_remount=True).\n"
          ],
          "name": "stdout"
        }
      ]
    },
    {
      "cell_type": "markdown",
      "metadata": {
        "id": "zgcesx_QKP3W"
      },
      "source": [
        "**Austin ABIA Airport Passenger Analysis**"
      ]
    },
    {
      "cell_type": "code",
      "metadata": {
        "id": "mm1u5HLgrUrk"
      },
      "source": [
        "import seaborn as sns"
      ],
      "execution_count": 149,
      "outputs": []
    },
    {
      "cell_type": "code",
      "metadata": {
        "id": "Uy-12s3i0dvl",
        "colab": {
          "base_uri": "https://localhost:8080/"
        },
        "outputId": "f71547dc-0f0a-413f-e46f-f6b87e8c877b"
      },
      "source": [
        "from matplotlib import pyplot as plt\n",
        "import numpy as np\n",
        "!pip install matrixprofile \n",
        "import matrixprofile as mp"
      ],
      "execution_count": 150,
      "outputs": [
        {
          "output_type": "stream",
          "text": [
            "Requirement already satisfied: matrixprofile in /usr/local/lib/python3.7/dist-packages (1.1.10)\n",
            "Requirement already satisfied: protobuf==3.11.2 in /usr/local/lib/python3.7/dist-packages (from matrixprofile) (3.11.2)\n",
            "Requirement already satisfied: matplotlib>=3.0.3 in /usr/local/lib/python3.7/dist-packages (from matrixprofile) (3.2.2)\n",
            "Requirement already satisfied: numpy>=1.16.2 in /usr/local/lib/python3.7/dist-packages (from matrixprofile) (1.19.5)\n",
            "Requirement already satisfied: scipy<2.0.0,>=1.3.2 in /usr/local/lib/python3.7/dist-packages (from matrixprofile) (1.4.1)\n",
            "Requirement already satisfied: six>=1.9 in /usr/local/lib/python3.7/dist-packages (from protobuf==3.11.2->matrixprofile) (1.15.0)\n",
            "Requirement already satisfied: setuptools in /usr/local/lib/python3.7/dist-packages (from protobuf==3.11.2->matrixprofile) (57.0.0)\n",
            "Requirement already satisfied: cycler>=0.10 in /usr/local/lib/python3.7/dist-packages (from matplotlib>=3.0.3->matrixprofile) (0.10.0)\n",
            "Requirement already satisfied: python-dateutil>=2.1 in /usr/local/lib/python3.7/dist-packages (from matplotlib>=3.0.3->matrixprofile) (2.8.1)\n",
            "Requirement already satisfied: kiwisolver>=1.0.1 in /usr/local/lib/python3.7/dist-packages (from matplotlib>=3.0.3->matrixprofile) (1.3.1)\n",
            "Requirement already satisfied: pyparsing!=2.0.4,!=2.1.2,!=2.1.6,>=2.0.1 in /usr/local/lib/python3.7/dist-packages (from matplotlib>=3.0.3->matrixprofile) (2.4.7)\n"
          ],
          "name": "stdout"
        }
      ]
    },
    {
      "cell_type": "code",
      "metadata": {
        "id": "YecharRL0osU"
      },
      "source": [
        "import numpy as np\n",
        "import pandas as pd\n",
        "import matplotlib.pyplot as plt\n",
        "from datetime import datetime\n",
        "import seaborn as sns\n",
        "import glob\n",
        "from sklearn.cluster import KMeans\n",
        "from mpl_toolkits.mplot3d import Axes3D\n",
        "import plotly.graph_objs as go\n",
        "from plotly import tools\n",
        "from plotly.subplots import make_subplots\n",
        "import plotly.offline as py"
      ],
      "execution_count": 151,
      "outputs": []
    },
    {
      "cell_type": "code",
      "metadata": {
        "id": "MD4NGTax0s-c",
        "colab": {
          "base_uri": "https://localhost:8080/",
          "height": 417
        },
        "outputId": "40f7b126-4c8c-497c-fe7b-a5418c012a8b"
      },
      "source": [
        "data=pd.read_excel('/content/drive/MyDrive/Released Records_21FO003112 (1) (1).xlsx')  \n",
        "data"
      ],
      "execution_count": 152,
      "outputs": [
        {
          "output_type": "execute_result",
          "data": {
            "text/html": [
              "<div>\n",
              "<style scoped>\n",
              "    .dataframe tbody tr th:only-of-type {\n",
              "        vertical-align: middle;\n",
              "    }\n",
              "\n",
              "    .dataframe tbody tr th {\n",
              "        vertical-align: top;\n",
              "    }\n",
              "\n",
              "    .dataframe thead th {\n",
              "        text-align: right;\n",
              "    }\n",
              "</style>\n",
              "<table border=\"1\" class=\"dataframe\">\n",
              "  <thead>\n",
              "    <tr style=\"text-align: right;\">\n",
              "      <th></th>\n",
              "      <th>Date</th>\n",
              "      <th>Austin Bergstrom International (AUS)</th>\n",
              "    </tr>\n",
              "  </thead>\n",
              "  <tbody>\n",
              "    <tr>\n",
              "      <th>0</th>\n",
              "      <td>2021-03-22</td>\n",
              "      <td>13233</td>\n",
              "    </tr>\n",
              "    <tr>\n",
              "      <th>1</th>\n",
              "      <td>2021-03-21</td>\n",
              "      <td>16360</td>\n",
              "    </tr>\n",
              "    <tr>\n",
              "      <th>2</th>\n",
              "      <td>2021-03-20</td>\n",
              "      <td>10634</td>\n",
              "    </tr>\n",
              "    <tr>\n",
              "      <th>3</th>\n",
              "      <td>2021-03-19</td>\n",
              "      <td>12608</td>\n",
              "    </tr>\n",
              "    <tr>\n",
              "      <th>4</th>\n",
              "      <td>2021-03-18</td>\n",
              "      <td>13436</td>\n",
              "    </tr>\n",
              "    <tr>\n",
              "      <th>...</th>\n",
              "      <td>...</td>\n",
              "      <td>...</td>\n",
              "    </tr>\n",
              "    <tr>\n",
              "      <th>807</th>\n",
              "      <td>2019-01-05</td>\n",
              "      <td>16446</td>\n",
              "    </tr>\n",
              "    <tr>\n",
              "      <th>808</th>\n",
              "      <td>2019-01-04</td>\n",
              "      <td>19516</td>\n",
              "    </tr>\n",
              "    <tr>\n",
              "      <th>809</th>\n",
              "      <td>2019-01-03</td>\n",
              "      <td>21204</td>\n",
              "    </tr>\n",
              "    <tr>\n",
              "      <th>810</th>\n",
              "      <td>2019-01-02</td>\n",
              "      <td>22821</td>\n",
              "    </tr>\n",
              "    <tr>\n",
              "      <th>811</th>\n",
              "      <td>2019-01-01</td>\n",
              "      <td>20946</td>\n",
              "    </tr>\n",
              "  </tbody>\n",
              "</table>\n",
              "<p>812 rows × 2 columns</p>\n",
              "</div>"
            ],
            "text/plain": [
              "          Date  Austin Bergstrom International (AUS) \n",
              "0   2021-03-22                                  13233\n",
              "1   2021-03-21                                  16360\n",
              "2   2021-03-20                                  10634\n",
              "3   2021-03-19                                  12608\n",
              "4   2021-03-18                                  13436\n",
              "..         ...                                    ...\n",
              "807 2019-01-05                                  16446\n",
              "808 2019-01-04                                  19516\n",
              "809 2019-01-03                                  21204\n",
              "810 2019-01-02                                  22821\n",
              "811 2019-01-01                                  20946\n",
              "\n",
              "[812 rows x 2 columns]"
            ]
          },
          "metadata": {
            "tags": []
          },
          "execution_count": 152
        }
      ]
    },
    {
      "cell_type": "code",
      "metadata": {
        "id": "ZihCH6NrSIgZ"
      },
      "source": [
        ""
      ],
      "execution_count": 152,
      "outputs": []
    },
    {
      "cell_type": "markdown",
      "metadata": {
        "id": "xRxAMFOEKdC-"
      },
      "source": [
        "**Adding the Day column**"
      ]
    },
    {
      "cell_type": "code",
      "metadata": {
        "id": "5WWuc7oEe0DX"
      },
      "source": [
        "\n",
        "data['Day'] = data['Date'].dt.day_name()\n",
        "  \n",
        "data\n",
        "df = pd.DataFrame()    \n",
        "df=data"
      ],
      "execution_count": 153,
      "outputs": []
    },
    {
      "cell_type": "code",
      "metadata": {
        "colab": {
          "base_uri": "https://localhost:8080/",
          "height": 1000
        },
        "id": "v5__Efqx6ajY",
        "outputId": "5b7aab49-2594-42b7-d105-a912cba58b1f"
      },
      "source": [
        "df.head(50)"
      ],
      "execution_count": 154,
      "outputs": [
        {
          "output_type": "execute_result",
          "data": {
            "text/html": [
              "<div>\n",
              "<style scoped>\n",
              "    .dataframe tbody tr th:only-of-type {\n",
              "        vertical-align: middle;\n",
              "    }\n",
              "\n",
              "    .dataframe tbody tr th {\n",
              "        vertical-align: top;\n",
              "    }\n",
              "\n",
              "    .dataframe thead th {\n",
              "        text-align: right;\n",
              "    }\n",
              "</style>\n",
              "<table border=\"1\" class=\"dataframe\">\n",
              "  <thead>\n",
              "    <tr style=\"text-align: right;\">\n",
              "      <th></th>\n",
              "      <th>Date</th>\n",
              "      <th>Austin Bergstrom International (AUS)</th>\n",
              "      <th>Day</th>\n",
              "    </tr>\n",
              "  </thead>\n",
              "  <tbody>\n",
              "    <tr>\n",
              "      <th>0</th>\n",
              "      <td>2021-03-22</td>\n",
              "      <td>13233</td>\n",
              "      <td>Monday</td>\n",
              "    </tr>\n",
              "    <tr>\n",
              "      <th>1</th>\n",
              "      <td>2021-03-21</td>\n",
              "      <td>16360</td>\n",
              "      <td>Sunday</td>\n",
              "    </tr>\n",
              "    <tr>\n",
              "      <th>2</th>\n",
              "      <td>2021-03-20</td>\n",
              "      <td>10634</td>\n",
              "      <td>Saturday</td>\n",
              "    </tr>\n",
              "    <tr>\n",
              "      <th>3</th>\n",
              "      <td>2021-03-19</td>\n",
              "      <td>12608</td>\n",
              "      <td>Friday</td>\n",
              "    </tr>\n",
              "    <tr>\n",
              "      <th>4</th>\n",
              "      <td>2021-03-18</td>\n",
              "      <td>13436</td>\n",
              "      <td>Thursday</td>\n",
              "    </tr>\n",
              "    <tr>\n",
              "      <th>5</th>\n",
              "      <td>2021-03-17</td>\n",
              "      <td>12136</td>\n",
              "      <td>Wednesday</td>\n",
              "    </tr>\n",
              "    <tr>\n",
              "      <th>6</th>\n",
              "      <td>2021-03-16</td>\n",
              "      <td>13270</td>\n",
              "      <td>Tuesday</td>\n",
              "    </tr>\n",
              "    <tr>\n",
              "      <th>7</th>\n",
              "      <td>2021-03-15</td>\n",
              "      <td>17140</td>\n",
              "      <td>Monday</td>\n",
              "    </tr>\n",
              "    <tr>\n",
              "      <th>8</th>\n",
              "      <td>2021-03-14</td>\n",
              "      <td>16181</td>\n",
              "      <td>Sunday</td>\n",
              "    </tr>\n",
              "    <tr>\n",
              "      <th>9</th>\n",
              "      <td>2021-03-13</td>\n",
              "      <td>15083</td>\n",
              "      <td>Saturday</td>\n",
              "    </tr>\n",
              "    <tr>\n",
              "      <th>10</th>\n",
              "      <td>2021-03-12</td>\n",
              "      <td>17832</td>\n",
              "      <td>Friday</td>\n",
              "    </tr>\n",
              "    <tr>\n",
              "      <th>11</th>\n",
              "      <td>2021-03-11</td>\n",
              "      <td>15149</td>\n",
              "      <td>Thursday</td>\n",
              "    </tr>\n",
              "    <tr>\n",
              "      <th>12</th>\n",
              "      <td>2021-03-10</td>\n",
              "      <td>9195</td>\n",
              "      <td>Wednesday</td>\n",
              "    </tr>\n",
              "    <tr>\n",
              "      <th>13</th>\n",
              "      <td>2021-03-09</td>\n",
              "      <td>7222</td>\n",
              "      <td>Tuesday</td>\n",
              "    </tr>\n",
              "    <tr>\n",
              "      <th>14</th>\n",
              "      <td>2021-03-08</td>\n",
              "      <td>12452</td>\n",
              "      <td>Monday</td>\n",
              "    </tr>\n",
              "    <tr>\n",
              "      <th>15</th>\n",
              "      <td>2021-03-07</td>\n",
              "      <td>14753</td>\n",
              "      <td>Sunday</td>\n",
              "    </tr>\n",
              "    <tr>\n",
              "      <th>16</th>\n",
              "      <td>2021-03-06</td>\n",
              "      <td>9389</td>\n",
              "      <td>Saturday</td>\n",
              "    </tr>\n",
              "    <tr>\n",
              "      <th>17</th>\n",
              "      <td>2021-03-05</td>\n",
              "      <td>11175</td>\n",
              "      <td>Friday</td>\n",
              "    </tr>\n",
              "    <tr>\n",
              "      <th>18</th>\n",
              "      <td>2021-03-04</td>\n",
              "      <td>10618</td>\n",
              "      <td>Thursday</td>\n",
              "    </tr>\n",
              "    <tr>\n",
              "      <th>19</th>\n",
              "      <td>2021-03-03</td>\n",
              "      <td>6576</td>\n",
              "      <td>Wednesday</td>\n",
              "    </tr>\n",
              "    <tr>\n",
              "      <th>20</th>\n",
              "      <td>2021-03-02</td>\n",
              "      <td>5823</td>\n",
              "      <td>Tuesday</td>\n",
              "    </tr>\n",
              "    <tr>\n",
              "      <th>21</th>\n",
              "      <td>2021-03-01</td>\n",
              "      <td>9777</td>\n",
              "      <td>Monday</td>\n",
              "    </tr>\n",
              "    <tr>\n",
              "      <th>22</th>\n",
              "      <td>2021-02-28</td>\n",
              "      <td>12262</td>\n",
              "      <td>Sunday</td>\n",
              "    </tr>\n",
              "    <tr>\n",
              "      <th>23</th>\n",
              "      <td>2021-02-27</td>\n",
              "      <td>6745</td>\n",
              "      <td>Saturday</td>\n",
              "    </tr>\n",
              "    <tr>\n",
              "      <th>24</th>\n",
              "      <td>2021-02-26</td>\n",
              "      <td>9708</td>\n",
              "      <td>Friday</td>\n",
              "    </tr>\n",
              "    <tr>\n",
              "      <th>25</th>\n",
              "      <td>2021-02-25</td>\n",
              "      <td>10240</td>\n",
              "      <td>Thursday</td>\n",
              "    </tr>\n",
              "    <tr>\n",
              "      <th>26</th>\n",
              "      <td>2021-02-24</td>\n",
              "      <td>6408</td>\n",
              "      <td>Wednesday</td>\n",
              "    </tr>\n",
              "    <tr>\n",
              "      <th>27</th>\n",
              "      <td>2021-02-23</td>\n",
              "      <td>4885</td>\n",
              "      <td>Tuesday</td>\n",
              "    </tr>\n",
              "    <tr>\n",
              "      <th>28</th>\n",
              "      <td>2021-02-22</td>\n",
              "      <td>7112</td>\n",
              "      <td>Monday</td>\n",
              "    </tr>\n",
              "    <tr>\n",
              "      <th>29</th>\n",
              "      <td>2021-02-21</td>\n",
              "      <td>10379</td>\n",
              "      <td>Sunday</td>\n",
              "    </tr>\n",
              "    <tr>\n",
              "      <th>30</th>\n",
              "      <td>2021-02-20</td>\n",
              "      <td>9294</td>\n",
              "      <td>Saturday</td>\n",
              "    </tr>\n",
              "    <tr>\n",
              "      <th>31</th>\n",
              "      <td>2021-02-19</td>\n",
              "      <td>9001</td>\n",
              "      <td>Friday</td>\n",
              "    </tr>\n",
              "    <tr>\n",
              "      <th>32</th>\n",
              "      <td>2021-02-18</td>\n",
              "      <td>2836</td>\n",
              "      <td>Thursday</td>\n",
              "    </tr>\n",
              "    <tr>\n",
              "      <th>33</th>\n",
              "      <td>2021-02-17</td>\n",
              "      <td>750</td>\n",
              "      <td>Wednesday</td>\n",
              "    </tr>\n",
              "    <tr>\n",
              "      <th>34</th>\n",
              "      <td>2021-02-16</td>\n",
              "      <td>0</td>\n",
              "      <td>Tuesday</td>\n",
              "    </tr>\n",
              "    <tr>\n",
              "      <th>35</th>\n",
              "      <td>2021-02-15</td>\n",
              "      <td>9</td>\n",
              "      <td>Monday</td>\n",
              "    </tr>\n",
              "    <tr>\n",
              "      <th>36</th>\n",
              "      <td>2021-02-14</td>\n",
              "      <td>5740</td>\n",
              "      <td>Sunday</td>\n",
              "    </tr>\n",
              "    <tr>\n",
              "      <th>37</th>\n",
              "      <td>2021-02-13</td>\n",
              "      <td>7643</td>\n",
              "      <td>Saturday</td>\n",
              "    </tr>\n",
              "    <tr>\n",
              "      <th>38</th>\n",
              "      <td>2021-02-12</td>\n",
              "      <td>10641</td>\n",
              "      <td>Friday</td>\n",
              "    </tr>\n",
              "    <tr>\n",
              "      <th>39</th>\n",
              "      <td>2021-02-11</td>\n",
              "      <td>9819</td>\n",
              "      <td>Thursday</td>\n",
              "    </tr>\n",
              "    <tr>\n",
              "      <th>40</th>\n",
              "      <td>2021-02-10</td>\n",
              "      <td>6523</td>\n",
              "      <td>Wednesday</td>\n",
              "    </tr>\n",
              "    <tr>\n",
              "      <th>41</th>\n",
              "      <td>2021-02-09</td>\n",
              "      <td>4615</td>\n",
              "      <td>Tuesday</td>\n",
              "    </tr>\n",
              "    <tr>\n",
              "      <th>42</th>\n",
              "      <td>2021-02-08</td>\n",
              "      <td>7842</td>\n",
              "      <td>Monday</td>\n",
              "    </tr>\n",
              "    <tr>\n",
              "      <th>43</th>\n",
              "      <td>2021-02-07</td>\n",
              "      <td>8777</td>\n",
              "      <td>Sunday</td>\n",
              "    </tr>\n",
              "    <tr>\n",
              "      <th>44</th>\n",
              "      <td>2021-02-06</td>\n",
              "      <td>5590</td>\n",
              "      <td>Saturday</td>\n",
              "    </tr>\n",
              "    <tr>\n",
              "      <th>45</th>\n",
              "      <td>2021-02-05</td>\n",
              "      <td>7949</td>\n",
              "      <td>Friday</td>\n",
              "    </tr>\n",
              "    <tr>\n",
              "      <th>46</th>\n",
              "      <td>2021-02-04</td>\n",
              "      <td>8065</td>\n",
              "      <td>Thursday</td>\n",
              "    </tr>\n",
              "    <tr>\n",
              "      <th>47</th>\n",
              "      <td>2021-02-03</td>\n",
              "      <td>5056</td>\n",
              "      <td>Wednesday</td>\n",
              "    </tr>\n",
              "    <tr>\n",
              "      <th>48</th>\n",
              "      <td>2021-02-02</td>\n",
              "      <td>4362</td>\n",
              "      <td>Tuesday</td>\n",
              "    </tr>\n",
              "    <tr>\n",
              "      <th>49</th>\n",
              "      <td>2021-02-01</td>\n",
              "      <td>6340</td>\n",
              "      <td>Monday</td>\n",
              "    </tr>\n",
              "  </tbody>\n",
              "</table>\n",
              "</div>"
            ],
            "text/plain": [
              "         Date  Austin Bergstrom International (AUS)         Day\n",
              "0  2021-03-22                                  13233     Monday\n",
              "1  2021-03-21                                  16360     Sunday\n",
              "2  2021-03-20                                  10634   Saturday\n",
              "3  2021-03-19                                  12608     Friday\n",
              "4  2021-03-18                                  13436   Thursday\n",
              "5  2021-03-17                                  12136  Wednesday\n",
              "6  2021-03-16                                  13270    Tuesday\n",
              "7  2021-03-15                                  17140     Monday\n",
              "8  2021-03-14                                  16181     Sunday\n",
              "9  2021-03-13                                  15083   Saturday\n",
              "10 2021-03-12                                  17832     Friday\n",
              "11 2021-03-11                                  15149   Thursday\n",
              "12 2021-03-10                                   9195  Wednesday\n",
              "13 2021-03-09                                   7222    Tuesday\n",
              "14 2021-03-08                                  12452     Monday\n",
              "15 2021-03-07                                  14753     Sunday\n",
              "16 2021-03-06                                   9389   Saturday\n",
              "17 2021-03-05                                  11175     Friday\n",
              "18 2021-03-04                                  10618   Thursday\n",
              "19 2021-03-03                                   6576  Wednesday\n",
              "20 2021-03-02                                   5823    Tuesday\n",
              "21 2021-03-01                                   9777     Monday\n",
              "22 2021-02-28                                  12262     Sunday\n",
              "23 2021-02-27                                   6745   Saturday\n",
              "24 2021-02-26                                   9708     Friday\n",
              "25 2021-02-25                                  10240   Thursday\n",
              "26 2021-02-24                                   6408  Wednesday\n",
              "27 2021-02-23                                   4885    Tuesday\n",
              "28 2021-02-22                                   7112     Monday\n",
              "29 2021-02-21                                  10379     Sunday\n",
              "30 2021-02-20                                   9294   Saturday\n",
              "31 2021-02-19                                   9001     Friday\n",
              "32 2021-02-18                                   2836   Thursday\n",
              "33 2021-02-17                                    750  Wednesday\n",
              "34 2021-02-16                                      0    Tuesday\n",
              "35 2021-02-15                                      9     Monday\n",
              "36 2021-02-14                                   5740     Sunday\n",
              "37 2021-02-13                                   7643   Saturday\n",
              "38 2021-02-12                                  10641     Friday\n",
              "39 2021-02-11                                   9819   Thursday\n",
              "40 2021-02-10                                   6523  Wednesday\n",
              "41 2021-02-09                                   4615    Tuesday\n",
              "42 2021-02-08                                   7842     Monday\n",
              "43 2021-02-07                                   8777     Sunday\n",
              "44 2021-02-06                                   5590   Saturday\n",
              "45 2021-02-05                                   7949     Friday\n",
              "46 2021-02-04                                   8065   Thursday\n",
              "47 2021-02-03                                   5056  Wednesday\n",
              "48 2021-02-02                                   4362    Tuesday\n",
              "49 2021-02-01                                   6340     Monday"
            ]
          },
          "metadata": {
            "tags": []
          },
          "execution_count": 154
        }
      ]
    },
    {
      "cell_type": "code",
      "metadata": {
        "colab": {
          "base_uri": "https://localhost:8080/"
        },
        "id": "zOdh22sRAvgJ",
        "outputId": "6f3d96f7-6415-4beb-cce3-4117a2902378"
      },
      "source": [
        "df.columns"
      ],
      "execution_count": 155,
      "outputs": [
        {
          "output_type": "execute_result",
          "data": {
            "text/plain": [
              "Index(['Date', 'Austin Bergstrom International (AUS) ', 'Day'], dtype='object')"
            ]
          },
          "metadata": {
            "tags": []
          },
          "execution_count": 155
        }
      ]
    },
    {
      "cell_type": "markdown",
      "metadata": {
        "id": "VVuER6InPdeg"
      },
      "source": [
        "**Rearranging data for required analysis**"
      ]
    },
    {
      "cell_type": "code",
      "metadata": {
        "colab": {
          "base_uri": "https://localhost:8080/",
          "height": 417
        },
        "id": "vSbCgT6Q_nHT",
        "outputId": "3b1e1e8f-0a7e-4216-cadf-df538c48c5e9"
      },
      "source": [
        "monday = []\n",
        "tuesday = []\n",
        "wednesday = []\n",
        "thursday = []\n",
        "friday = []\n",
        "saturday = []\n",
        "sunday = []\n",
        "i=0\n",
        "for value in df[\"Day\"]:\n",
        "    if value == 'Monday':\n",
        "        monday.append(df.at[i,'Austin Bergstrom International (AUS) '])\n",
        "        i=i+1\n",
        "    elif value == 'Tuesday':\n",
        "        tuesday.append(df.at[i,'Austin Bergstrom International (AUS) '])\n",
        "        i=i+1\n",
        "    elif value == 'Wednesday':\n",
        "        wednesday.append(df.at[i,'Austin Bergstrom International (AUS) '])\n",
        "        i=i+1\n",
        "    elif value == 'Thursday':\n",
        "        thursday.append(df.at[i,'Austin Bergstrom International (AUS) '])\n",
        "        i=i+1\n",
        "    elif value == 'Friday':\n",
        "        friday.append(df.at[i,'Austin Bergstrom International (AUS) '])\n",
        "        i=i+1\n",
        "    elif value == 'Saturday':\n",
        "        saturday.append(df.at[i,'Austin Bergstrom International (AUS) '])\n",
        "        i=i+1\n",
        "    elif value == 'Sunday':\n",
        "        sunday.append(df.at[i,'Austin Bergstrom International (AUS) '])\n",
        "        i=i+1\n",
        "        \n",
        "    \n",
        "    \n",
        "      \n",
        "    \n",
        "\n",
        "dfinal = pd.DataFrame()    \n",
        "dfinal[\"Monday\"] = monday \n",
        "dfinal[\"Tuesday\"] = tuesday\n",
        "dfinal[\"Wednesday\"] = wednesday\n",
        "dfinal[\"Thursday\"] = thursday\n",
        "dfinal[\"Friday\"] = friday \n",
        "dfinal[\"Saturday\"] = saturday\n",
        "dfinal[\"Sunday\"] = sunday\n",
        "dfinal\n",
        "    "
      ],
      "execution_count": 156,
      "outputs": [
        {
          "output_type": "execute_result",
          "data": {
            "text/html": [
              "<div>\n",
              "<style scoped>\n",
              "    .dataframe tbody tr th:only-of-type {\n",
              "        vertical-align: middle;\n",
              "    }\n",
              "\n",
              "    .dataframe tbody tr th {\n",
              "        vertical-align: top;\n",
              "    }\n",
              "\n",
              "    .dataframe thead th {\n",
              "        text-align: right;\n",
              "    }\n",
              "</style>\n",
              "<table border=\"1\" class=\"dataframe\">\n",
              "  <thead>\n",
              "    <tr style=\"text-align: right;\">\n",
              "      <th></th>\n",
              "      <th>Monday</th>\n",
              "      <th>Tuesday</th>\n",
              "      <th>Wednesday</th>\n",
              "      <th>Thursday</th>\n",
              "      <th>Friday</th>\n",
              "      <th>Saturday</th>\n",
              "      <th>Sunday</th>\n",
              "    </tr>\n",
              "  </thead>\n",
              "  <tbody>\n",
              "    <tr>\n",
              "      <th>0</th>\n",
              "      <td>13233</td>\n",
              "      <td>13270</td>\n",
              "      <td>12136</td>\n",
              "      <td>13436</td>\n",
              "      <td>12608</td>\n",
              "      <td>10634</td>\n",
              "      <td>16360</td>\n",
              "    </tr>\n",
              "    <tr>\n",
              "      <th>1</th>\n",
              "      <td>17140</td>\n",
              "      <td>7222</td>\n",
              "      <td>9195</td>\n",
              "      <td>15149</td>\n",
              "      <td>17832</td>\n",
              "      <td>15083</td>\n",
              "      <td>16181</td>\n",
              "    </tr>\n",
              "    <tr>\n",
              "      <th>2</th>\n",
              "      <td>12452</td>\n",
              "      <td>5823</td>\n",
              "      <td>6576</td>\n",
              "      <td>10618</td>\n",
              "      <td>11175</td>\n",
              "      <td>9389</td>\n",
              "      <td>14753</td>\n",
              "    </tr>\n",
              "    <tr>\n",
              "      <th>3</th>\n",
              "      <td>9777</td>\n",
              "      <td>4885</td>\n",
              "      <td>6408</td>\n",
              "      <td>10240</td>\n",
              "      <td>9708</td>\n",
              "      <td>6745</td>\n",
              "      <td>12262</td>\n",
              "    </tr>\n",
              "    <tr>\n",
              "      <th>4</th>\n",
              "      <td>7112</td>\n",
              "      <td>0</td>\n",
              "      <td>750</td>\n",
              "      <td>2836</td>\n",
              "      <td>9001</td>\n",
              "      <td>9294</td>\n",
              "      <td>10379</td>\n",
              "    </tr>\n",
              "    <tr>\n",
              "      <th>...</th>\n",
              "      <td>...</td>\n",
              "      <td>...</td>\n",
              "      <td>...</td>\n",
              "      <td>...</td>\n",
              "      <td>...</td>\n",
              "      <td>...</td>\n",
              "      <td>...</td>\n",
              "    </tr>\n",
              "    <tr>\n",
              "      <th>111</th>\n",
              "      <td>19968</td>\n",
              "      <td>14256</td>\n",
              "      <td>15389</td>\n",
              "      <td>20235</td>\n",
              "      <td>21495</td>\n",
              "      <td>12514</td>\n",
              "      <td>17195</td>\n",
              "    </tr>\n",
              "    <tr>\n",
              "      <th>112</th>\n",
              "      <td>18661</td>\n",
              "      <td>17862</td>\n",
              "      <td>16867</td>\n",
              "      <td>20983</td>\n",
              "      <td>20403</td>\n",
              "      <td>12258</td>\n",
              "      <td>20125</td>\n",
              "    </tr>\n",
              "    <tr>\n",
              "      <th>113</th>\n",
              "      <td>23913</td>\n",
              "      <td>14790</td>\n",
              "      <td>17832</td>\n",
              "      <td>21426</td>\n",
              "      <td>23277</td>\n",
              "      <td>13842</td>\n",
              "      <td>18563</td>\n",
              "    </tr>\n",
              "    <tr>\n",
              "      <th>114</th>\n",
              "      <td>17880</td>\n",
              "      <td>14628</td>\n",
              "      <td>15571</td>\n",
              "      <td>18494</td>\n",
              "      <td>19401</td>\n",
              "      <td>12654</td>\n",
              "      <td>19243</td>\n",
              "    </tr>\n",
              "    <tr>\n",
              "      <th>115</th>\n",
              "      <td>19091</td>\n",
              "      <td>20946</td>\n",
              "      <td>22821</td>\n",
              "      <td>21204</td>\n",
              "      <td>19516</td>\n",
              "      <td>16446</td>\n",
              "      <td>20509</td>\n",
              "    </tr>\n",
              "  </tbody>\n",
              "</table>\n",
              "<p>116 rows × 7 columns</p>\n",
              "</div>"
            ],
            "text/plain": [
              "     Monday  Tuesday  Wednesday  Thursday  Friday  Saturday  Sunday\n",
              "0     13233    13270      12136     13436   12608     10634   16360\n",
              "1     17140     7222       9195     15149   17832     15083   16181\n",
              "2     12452     5823       6576     10618   11175      9389   14753\n",
              "3      9777     4885       6408     10240    9708      6745   12262\n",
              "4      7112        0        750      2836    9001      9294   10379\n",
              "..      ...      ...        ...       ...     ...       ...     ...\n",
              "111   19968    14256      15389     20235   21495     12514   17195\n",
              "112   18661    17862      16867     20983   20403     12258   20125\n",
              "113   23913    14790      17832     21426   23277     13842   18563\n",
              "114   17880    14628      15571     18494   19401     12654   19243\n",
              "115   19091    20946      22821     21204   19516     16446   20509\n",
              "\n",
              "[116 rows x 7 columns]"
            ]
          },
          "metadata": {
            "tags": []
          },
          "execution_count": 156
        }
      ]
    },
    {
      "cell_type": "markdown",
      "metadata": {
        "id": "qG-7e_xkPwvr"
      },
      "source": [
        "**Here I have started week number with 1 for the analysis**"
      ]
    },
    {
      "cell_type": "code",
      "metadata": {
        "id": "6K8UwTrdjbQU"
      },
      "source": [
        "week=[]\n",
        "i=1\n",
        "for value in dfinal[\"Monday\"]:\n",
        "        week.append(i)\n",
        "        i=i+1\n",
        "\n",
        "dfinal[\"Week\"] = week"
      ],
      "execution_count": 157,
      "outputs": []
    },
    {
      "cell_type": "code",
      "metadata": {
        "id": "uvlXun-DjbFZ",
        "colab": {
          "base_uri": "https://localhost:8080/",
          "height": 665
        },
        "outputId": "c6371b78-8d3e-4914-d05f-d3d989b64583"
      },
      "source": [
        "dfinal.head(20)"
      ],
      "execution_count": 158,
      "outputs": [
        {
          "output_type": "execute_result",
          "data": {
            "text/html": [
              "<div>\n",
              "<style scoped>\n",
              "    .dataframe tbody tr th:only-of-type {\n",
              "        vertical-align: middle;\n",
              "    }\n",
              "\n",
              "    .dataframe tbody tr th {\n",
              "        vertical-align: top;\n",
              "    }\n",
              "\n",
              "    .dataframe thead th {\n",
              "        text-align: right;\n",
              "    }\n",
              "</style>\n",
              "<table border=\"1\" class=\"dataframe\">\n",
              "  <thead>\n",
              "    <tr style=\"text-align: right;\">\n",
              "      <th></th>\n",
              "      <th>Monday</th>\n",
              "      <th>Tuesday</th>\n",
              "      <th>Wednesday</th>\n",
              "      <th>Thursday</th>\n",
              "      <th>Friday</th>\n",
              "      <th>Saturday</th>\n",
              "      <th>Sunday</th>\n",
              "      <th>Week</th>\n",
              "    </tr>\n",
              "  </thead>\n",
              "  <tbody>\n",
              "    <tr>\n",
              "      <th>0</th>\n",
              "      <td>13233</td>\n",
              "      <td>13270</td>\n",
              "      <td>12136</td>\n",
              "      <td>13436</td>\n",
              "      <td>12608</td>\n",
              "      <td>10634</td>\n",
              "      <td>16360</td>\n",
              "      <td>1</td>\n",
              "    </tr>\n",
              "    <tr>\n",
              "      <th>1</th>\n",
              "      <td>17140</td>\n",
              "      <td>7222</td>\n",
              "      <td>9195</td>\n",
              "      <td>15149</td>\n",
              "      <td>17832</td>\n",
              "      <td>15083</td>\n",
              "      <td>16181</td>\n",
              "      <td>2</td>\n",
              "    </tr>\n",
              "    <tr>\n",
              "      <th>2</th>\n",
              "      <td>12452</td>\n",
              "      <td>5823</td>\n",
              "      <td>6576</td>\n",
              "      <td>10618</td>\n",
              "      <td>11175</td>\n",
              "      <td>9389</td>\n",
              "      <td>14753</td>\n",
              "      <td>3</td>\n",
              "    </tr>\n",
              "    <tr>\n",
              "      <th>3</th>\n",
              "      <td>9777</td>\n",
              "      <td>4885</td>\n",
              "      <td>6408</td>\n",
              "      <td>10240</td>\n",
              "      <td>9708</td>\n",
              "      <td>6745</td>\n",
              "      <td>12262</td>\n",
              "      <td>4</td>\n",
              "    </tr>\n",
              "    <tr>\n",
              "      <th>4</th>\n",
              "      <td>7112</td>\n",
              "      <td>0</td>\n",
              "      <td>750</td>\n",
              "      <td>2836</td>\n",
              "      <td>9001</td>\n",
              "      <td>9294</td>\n",
              "      <td>10379</td>\n",
              "      <td>5</td>\n",
              "    </tr>\n",
              "    <tr>\n",
              "      <th>5</th>\n",
              "      <td>9</td>\n",
              "      <td>4615</td>\n",
              "      <td>6523</td>\n",
              "      <td>9819</td>\n",
              "      <td>10641</td>\n",
              "      <td>7643</td>\n",
              "      <td>5740</td>\n",
              "      <td>6</td>\n",
              "    </tr>\n",
              "    <tr>\n",
              "      <th>6</th>\n",
              "      <td>7842</td>\n",
              "      <td>4362</td>\n",
              "      <td>5056</td>\n",
              "      <td>8065</td>\n",
              "      <td>7949</td>\n",
              "      <td>5590</td>\n",
              "      <td>8777</td>\n",
              "      <td>7</td>\n",
              "    </tr>\n",
              "    <tr>\n",
              "      <th>7</th>\n",
              "      <td>6340</td>\n",
              "      <td>3782</td>\n",
              "      <td>4656</td>\n",
              "      <td>7193</td>\n",
              "      <td>7035</td>\n",
              "      <td>4961</td>\n",
              "      <td>9326</td>\n",
              "      <td>8</td>\n",
              "    </tr>\n",
              "    <tr>\n",
              "      <th>8</th>\n",
              "      <td>6411</td>\n",
              "      <td>4719</td>\n",
              "      <td>4639</td>\n",
              "      <td>6657</td>\n",
              "      <td>7122</td>\n",
              "      <td>4695</td>\n",
              "      <td>8369</td>\n",
              "      <td>9</td>\n",
              "    </tr>\n",
              "    <tr>\n",
              "      <th>9</th>\n",
              "      <td>9226</td>\n",
              "      <td>4379</td>\n",
              "      <td>5103</td>\n",
              "      <td>7500</td>\n",
              "      <td>8647</td>\n",
              "      <td>5846</td>\n",
              "      <td>8077</td>\n",
              "      <td>10</td>\n",
              "    </tr>\n",
              "    <tr>\n",
              "      <th>10</th>\n",
              "      <td>6906</td>\n",
              "      <td>6722</td>\n",
              "      <td>5714</td>\n",
              "      <td>6894</td>\n",
              "      <td>6989</td>\n",
              "      <td>5792</td>\n",
              "      <td>7838</td>\n",
              "      <td>11</td>\n",
              "    </tr>\n",
              "    <tr>\n",
              "      <th>11</th>\n",
              "      <td>10518</td>\n",
              "      <td>10921</td>\n",
              "      <td>12248</td>\n",
              "      <td>7944</td>\n",
              "      <td>7557</td>\n",
              "      <td>12273</td>\n",
              "      <td>14763</td>\n",
              "      <td>12</td>\n",
              "    </tr>\n",
              "    <tr>\n",
              "      <th>12</th>\n",
              "      <td>11534</td>\n",
              "      <td>11618</td>\n",
              "      <td>13573</td>\n",
              "      <td>8446</td>\n",
              "      <td>6385</td>\n",
              "      <td>11351</td>\n",
              "      <td>13718</td>\n",
              "      <td>13</td>\n",
              "    </tr>\n",
              "    <tr>\n",
              "      <th>13</th>\n",
              "      <td>11513</td>\n",
              "      <td>5519</td>\n",
              "      <td>6355</td>\n",
              "      <td>10151</td>\n",
              "      <td>11958</td>\n",
              "      <td>13468</td>\n",
              "      <td>12615</td>\n",
              "      <td>14</td>\n",
              "    </tr>\n",
              "    <tr>\n",
              "      <th>14</th>\n",
              "      <td>8346</td>\n",
              "      <td>4611</td>\n",
              "      <td>5282</td>\n",
              "      <td>7492</td>\n",
              "      <td>8412</td>\n",
              "      <td>6966</td>\n",
              "      <td>9428</td>\n",
              "      <td>15</td>\n",
              "    </tr>\n",
              "    <tr>\n",
              "      <th>15</th>\n",
              "      <td>7860</td>\n",
              "      <td>8012</td>\n",
              "      <td>6086</td>\n",
              "      <td>7272</td>\n",
              "      <td>7945</td>\n",
              "      <td>5727</td>\n",
              "      <td>8999</td>\n",
              "      <td>16</td>\n",
              "    </tr>\n",
              "    <tr>\n",
              "      <th>16</th>\n",
              "      <td>10394</td>\n",
              "      <td>10268</td>\n",
              "      <td>11234</td>\n",
              "      <td>5330</td>\n",
              "      <td>8151</td>\n",
              "      <td>10133</td>\n",
              "      <td>12708</td>\n",
              "      <td>17</td>\n",
              "    </tr>\n",
              "    <tr>\n",
              "      <th>17</th>\n",
              "      <td>10187</td>\n",
              "      <td>5580</td>\n",
              "      <td>7087</td>\n",
              "      <td>9699</td>\n",
              "      <td>11032</td>\n",
              "      <td>10960</td>\n",
              "      <td>11138</td>\n",
              "      <td>18</td>\n",
              "    </tr>\n",
              "    <tr>\n",
              "      <th>18</th>\n",
              "      <td>10131</td>\n",
              "      <td>6387</td>\n",
              "      <td>7070</td>\n",
              "      <td>9645</td>\n",
              "      <td>9760</td>\n",
              "      <td>6848</td>\n",
              "      <td>10905</td>\n",
              "      <td>19</td>\n",
              "    </tr>\n",
              "    <tr>\n",
              "      <th>19</th>\n",
              "      <td>10396</td>\n",
              "      <td>5842</td>\n",
              "      <td>6296</td>\n",
              "      <td>9565</td>\n",
              "      <td>9768</td>\n",
              "      <td>6662</td>\n",
              "      <td>11378</td>\n",
              "      <td>20</td>\n",
              "    </tr>\n",
              "  </tbody>\n",
              "</table>\n",
              "</div>"
            ],
            "text/plain": [
              "    Monday  Tuesday  Wednesday  Thursday  Friday  Saturday  Sunday  Week\n",
              "0    13233    13270      12136     13436   12608     10634   16360     1\n",
              "1    17140     7222       9195     15149   17832     15083   16181     2\n",
              "2    12452     5823       6576     10618   11175      9389   14753     3\n",
              "3     9777     4885       6408     10240    9708      6745   12262     4\n",
              "4     7112        0        750      2836    9001      9294   10379     5\n",
              "5        9     4615       6523      9819   10641      7643    5740     6\n",
              "6     7842     4362       5056      8065    7949      5590    8777     7\n",
              "7     6340     3782       4656      7193    7035      4961    9326     8\n",
              "8     6411     4719       4639      6657    7122      4695    8369     9\n",
              "9     9226     4379       5103      7500    8647      5846    8077    10\n",
              "10    6906     6722       5714      6894    6989      5792    7838    11\n",
              "11   10518    10921      12248      7944    7557     12273   14763    12\n",
              "12   11534    11618      13573      8446    6385     11351   13718    13\n",
              "13   11513     5519       6355     10151   11958     13468   12615    14\n",
              "14    8346     4611       5282      7492    8412      6966    9428    15\n",
              "15    7860     8012       6086      7272    7945      5727    8999    16\n",
              "16   10394    10268      11234      5330    8151     10133   12708    17\n",
              "17   10187     5580       7087      9699   11032     10960   11138    18\n",
              "18   10131     6387       7070      9645    9760      6848   10905    19\n",
              "19   10396     5842       6296      9565    9768      6662   11378    20"
            ]
          },
          "metadata": {
            "tags": []
          },
          "execution_count": 158
        }
      ]
    },
    {
      "cell_type": "markdown",
      "metadata": {
        "id": "Zo1_sfg3P_vu"
      },
      "source": [
        "**Clustering by K means**\n",
        "\n",
        "**I have used 7 days as features in clustering**"
      ]
    },
    {
      "cell_type": "code",
      "metadata": {
        "id": "UCr6_KKbqu-3"
      },
      "source": [
        "\n",
        "x = dfinal[['Sunday','Monday','Tuesday','Wednesday','Thursday','Friday','Saturday']].values"
      ],
      "execution_count": 159,
      "outputs": []
    },
    {
      "cell_type": "code",
      "metadata": {
        "colab": {
          "base_uri": "https://localhost:8080/",
          "height": 468
        },
        "id": "GTgqaWRdqu0V",
        "outputId": "f4ec3cd5-ad09-4c97-f49a-4da06f13ad8b"
      },
      "source": [
        "\n",
        "WCSS = []\n",
        "for i in range(1,11):\n",
        "    model = KMeans(n_clusters = i,init = 'k-means++')\n",
        "    model.fit(x)\n",
        "    WCSS.append(model.inertia_)\n",
        "fig = plt.figure(figsize = (7,7))\n",
        "plt.plot(range(1,11),WCSS, linewidth=4, markersize=12,marker='o',color = 'red')\n",
        "plt.xticks(np.arange(11))\n",
        "plt.xlabel(\"Number of clusters\")\n",
        "plt.ylabel(\"WCSS\")\n",
        "plt.show()"
      ],
      "execution_count": 160,
      "outputs": [
        {
          "output_type": "display_data",
          "data": {
            "image/png": "[encoded data removed]",
            "text/plain": [
              "<Figure size 504x504 with 1 Axes>"
            ]
          },
          "metadata": {
            "tags": [],
            "needs_background": "light"
          }
        }
      ]
    },
    {
      "cell_type": "markdown",
      "metadata": {
        "id": "SImwWJH9QNyb"
      },
      "source": [
        "**Here 3 came out as optimal number of clusters**"
      ]
    },
    {
      "cell_type": "code",
      "metadata": {
        "id": "P6pbKdDaqupz"
      },
      "source": [
        "model = KMeans(n_clusters = 3, init = \"k-means++\", max_iter = 300, n_init = 10, random_state = 0)\n",
        "y_clusters = model.fit_predict(x)"
      ],
      "execution_count": 161,
      "outputs": []
    },
    {
      "cell_type": "code",
      "metadata": {
        "colab": {
          "base_uri": "https://localhost:8080/"
        },
        "id": "8UMEojA1qudL",
        "outputId": "e74eeefc-deb3-4322-f96c-39023f5fcdd0"
      },
      "source": [
        "model.cluster_centers_"
      ],
      "execution_count": 162,
      "outputs": [
        {
          "output_type": "execute_result",
          "data": {
            "text/plain": [
              "array([[26906.79591837, 27090.69387755, 22818.93877551, 24106.30612245,\n",
              "        26510.57142857, 27099.04081633, 20275.42857143],\n",
              "       [ 7787.62745098,  6978.41176471,  4907.76470588,  5255.01960784,\n",
              "         6803.88235294,  7182.58823529,  5829.74509804],\n",
              "       [20233.5       , 20407.3125    , 16267.375     , 17636.625     ,\n",
              "        20749.0625    , 21352.1875    , 14008.0625    ]])"
            ]
          },
          "metadata": {
            "tags": []
          },
          "execution_count": 162
        }
      ]
    },
    {
      "cell_type": "code",
      "metadata": {
        "colab": {
          "base_uri": "https://localhost:8080/"
        },
        "id": "AzV5BP0VrQQV",
        "outputId": "4a6f21dd-7254-4d6f-ad89-120e62d666ab"
      },
      "source": [
        "model.labels_"
      ],
      "execution_count": 163,
      "outputs": [
        {
          "output_type": "execute_result",
          "data": {
            "text/plain": [
              "array([2, 2, 1, 1, 1, 1, 1, 1, 1, 1, 1, 1, 1, 1, 1, 1, 1, 1, 1, 1, 1, 1,\n",
              "       1, 1, 1, 1, 1, 1, 1, 1, 1, 1, 1, 1, 1, 1, 1, 1, 1, 1, 1, 1, 1, 1,\n",
              "       1, 1, 1, 1, 1, 1, 1, 1, 1, 2, 0, 0, 0, 0, 2, 2, 2, 2, 2, 0, 0, 0,\n",
              "       0, 0, 0, 0, 0, 0, 0, 0, 0, 0, 0, 0, 0, 0, 0, 0, 0, 0, 0, 0, 0, 0,\n",
              "       0, 0, 0, 0, 0, 0, 0, 0, 0, 0, 0, 0, 0, 0, 0, 0, 0, 0, 0, 2, 0, 2,\n",
              "       2, 2, 2, 2, 2, 2], dtype=int32)"
            ]
          },
          "metadata": {
            "tags": []
          },
          "execution_count": 163
        }
      ]
    },
    {
      "cell_type": "code",
      "metadata": {
        "id": "kq5A0indrQDp"
      },
      "source": [
        "\n",
        "unique, counts = np.unique(model.labels_, return_counts=True)"
      ],
      "execution_count": 164,
      "outputs": []
    },
    {
      "cell_type": "code",
      "metadata": {
        "colab": {
          "base_uri": "https://localhost:8080/"
        },
        "id": "USOhNbRkrarF",
        "outputId": "18c87a3c-dee2-48fb-b9b2-67b4eb0e9a96"
      },
      "source": [
        "dict_data = dict(zip(unique, counts))\n",
        "dict_data"
      ],
      "execution_count": 165,
      "outputs": [
        {
          "output_type": "execute_result",
          "data": {
            "text/plain": [
              "{0: 49, 1: 51, 2: 16}"
            ]
          },
          "metadata": {
            "tags": []
          },
          "execution_count": 165
        }
      ]
    },
    {
      "cell_type": "code",
      "metadata": {
        "id": "FIKMgulirafp"
      },
      "source": [
        "dfinal[\"cluster\"] = model.labels_"
      ],
      "execution_count": 166,
      "outputs": []
    },
    {
      "cell_type": "code",
      "metadata": {
        "colab": {
          "base_uri": "https://localhost:8080/",
          "height": 549
        },
        "id": "rnAkd9KByOsF",
        "outputId": "9d234181-8614-47a3-88d8-ad52d8711eb0"
      },
      "source": [
        "sns.countplot(y_clusters)"
      ],
      "execution_count": 167,
      "outputs": [
        {
          "output_type": "stream",
          "text": [
            "/usr/local/lib/python3.7/dist-packages/seaborn/_decorators.py:43: FutureWarning:\n",
            "\n",
            "Pass the following variable as a keyword arg: x. From version 0.12, the only valid positional argument will be `data`, and passing other arguments without an explicit keyword will result in an error or misinterpretation.\n",
            "\n"
          ],
          "name": "stderr"
        },
        {
          "output_type": "execute_result",
          "data": {
            "text/plain": [
              "<matplotlib.axes._subplots.AxesSubplot at 0x7f93e0376150>"
            ]
          },
          "metadata": {
            "tags": []
          },
          "execution_count": 167
        },
        {
          "output_type": "display_data",
          "data": {
            "image/png": "[encoded data removed]",
            "text/plain": [
              "<Figure size 748.8x514.8 with 1 Axes>"
            ]
          },
          "metadata": {
            "tags": [],
            "needs_background": "light"
          }
        }
      ]
    },
    {
      "cell_type": "code",
      "metadata": {
        "colab": {
          "base_uri": "https://localhost:8080/"
        },
        "id": "efMqwbU1rZ9b",
        "outputId": "a80c7c9b-0d8d-4a13-ce2c-14d1baa02360"
      },
      "source": [
        "model.inertia_"
      ],
      "execution_count": 168,
      "outputs": [
        {
          "output_type": "execute_result",
          "data": {
            "text/plain": [
              "6433120664.524909"
            ]
          },
          "metadata": {
            "tags": []
          },
          "execution_count": 168
        }
      ]
    },
    {
      "cell_type": "markdown",
      "metadata": {
        "id": "ABXy3fLXQetb"
      },
      "source": [
        "**This is the table with added column of Cluster to which a particular row belong**"
      ]
    },
    {
      "cell_type": "code",
      "metadata": {
        "colab": {
          "base_uri": "https://localhost:8080/",
          "height": 1000
        },
        "id": "pzyMv9GzrnXx",
        "outputId": "af1b2e20-377e-44aa-e2f3-ee42c4eed701"
      },
      "source": [
        "dfinal.head(50)"
      ],
      "execution_count": 169,
      "outputs": [
        {
          "output_type": "execute_result",
          "data": {
            "text/html": [
              "<div>\n",
              "<style scoped>\n",
              "    .dataframe tbody tr th:only-of-type {\n",
              "        vertical-align: middle;\n",
              "    }\n",
              "\n",
              "    .dataframe tbody tr th {\n",
              "        vertical-align: top;\n",
              "    }\n",
              "\n",
              "    .dataframe thead th {\n",
              "        text-align: right;\n",
              "    }\n",
              "</style>\n",
              "<table border=\"1\" class=\"dataframe\">\n",
              "  <thead>\n",
              "    <tr style=\"text-align: right;\">\n",
              "      <th></th>\n",
              "      <th>Monday</th>\n",
              "      <th>Tuesday</th>\n",
              "      <th>Wednesday</th>\n",
              "      <th>Thursday</th>\n",
              "      <th>Friday</th>\n",
              "      <th>Saturday</th>\n",
              "      <th>Sunday</th>\n",
              "      <th>Week</th>\n",
              "      <th>cluster</th>\n",
              "    </tr>\n",
              "  </thead>\n",
              "  <tbody>\n",
              "    <tr>\n",
              "      <th>0</th>\n",
              "      <td>13233</td>\n",
              "      <td>13270</td>\n",
              "      <td>12136</td>\n",
              "      <td>13436</td>\n",
              "      <td>12608</td>\n",
              "      <td>10634</td>\n",
              "      <td>16360</td>\n",
              "      <td>1</td>\n",
              "      <td>2</td>\n",
              "    </tr>\n",
              "    <tr>\n",
              "      <th>1</th>\n",
              "      <td>17140</td>\n",
              "      <td>7222</td>\n",
              "      <td>9195</td>\n",
              "      <td>15149</td>\n",
              "      <td>17832</td>\n",
              "      <td>15083</td>\n",
              "      <td>16181</td>\n",
              "      <td>2</td>\n",
              "      <td>2</td>\n",
              "    </tr>\n",
              "    <tr>\n",
              "      <th>2</th>\n",
              "      <td>12452</td>\n",
              "      <td>5823</td>\n",
              "      <td>6576</td>\n",
              "      <td>10618</td>\n",
              "      <td>11175</td>\n",
              "      <td>9389</td>\n",
              "      <td>14753</td>\n",
              "      <td>3</td>\n",
              "      <td>1</td>\n",
              "    </tr>\n",
              "    <tr>\n",
              "      <th>3</th>\n",
              "      <td>9777</td>\n",
              "      <td>4885</td>\n",
              "      <td>6408</td>\n",
              "      <td>10240</td>\n",
              "      <td>9708</td>\n",
              "      <td>6745</td>\n",
              "      <td>12262</td>\n",
              "      <td>4</td>\n",
              "      <td>1</td>\n",
              "    </tr>\n",
              "    <tr>\n",
              "      <th>4</th>\n",
              "      <td>7112</td>\n",
              "      <td>0</td>\n",
              "      <td>750</td>\n",
              "      <td>2836</td>\n",
              "      <td>9001</td>\n",
              "      <td>9294</td>\n",
              "      <td>10379</td>\n",
              "      <td>5</td>\n",
              "      <td>1</td>\n",
              "    </tr>\n",
              "    <tr>\n",
              "      <th>5</th>\n",
              "      <td>9</td>\n",
              "      <td>4615</td>\n",
              "      <td>6523</td>\n",
              "      <td>9819</td>\n",
              "      <td>10641</td>\n",
              "      <td>7643</td>\n",
              "      <td>5740</td>\n",
              "      <td>6</td>\n",
              "      <td>1</td>\n",
              "    </tr>\n",
              "    <tr>\n",
              "      <th>6</th>\n",
              "      <td>7842</td>\n",
              "      <td>4362</td>\n",
              "      <td>5056</td>\n",
              "      <td>8065</td>\n",
              "      <td>7949</td>\n",
              "      <td>5590</td>\n",
              "      <td>8777</td>\n",
              "      <td>7</td>\n",
              "      <td>1</td>\n",
              "    </tr>\n",
              "    <tr>\n",
              "      <th>7</th>\n",
              "      <td>6340</td>\n",
              "      <td>3782</td>\n",
              "      <td>4656</td>\n",
              "      <td>7193</td>\n",
              "      <td>7035</td>\n",
              "      <td>4961</td>\n",
              "      <td>9326</td>\n",
              "      <td>8</td>\n",
              "      <td>1</td>\n",
              "    </tr>\n",
              "    <tr>\n",
              "      <th>8</th>\n",
              "      <td>6411</td>\n",
              "      <td>4719</td>\n",
              "      <td>4639</td>\n",
              "      <td>6657</td>\n",
              "      <td>7122</td>\n",
              "      <td>4695</td>\n",
              "      <td>8369</td>\n",
              "      <td>9</td>\n",
              "      <td>1</td>\n",
              "    </tr>\n",
              "    <tr>\n",
              "      <th>9</th>\n",
              "      <td>9226</td>\n",
              "      <td>4379</td>\n",
              "      <td>5103</td>\n",
              "      <td>7500</td>\n",
              "      <td>8647</td>\n",
              "      <td>5846</td>\n",
              "      <td>8077</td>\n",
              "      <td>10</td>\n",
              "      <td>1</td>\n",
              "    </tr>\n",
              "    <tr>\n",
              "      <th>10</th>\n",
              "      <td>6906</td>\n",
              "      <td>6722</td>\n",
              "      <td>5714</td>\n",
              "      <td>6894</td>\n",
              "      <td>6989</td>\n",
              "      <td>5792</td>\n",
              "      <td>7838</td>\n",
              "      <td>11</td>\n",
              "      <td>1</td>\n",
              "    </tr>\n",
              "    <tr>\n",
              "      <th>11</th>\n",
              "      <td>10518</td>\n",
              "      <td>10921</td>\n",
              "      <td>12248</td>\n",
              "      <td>7944</td>\n",
              "      <td>7557</td>\n",
              "      <td>12273</td>\n",
              "      <td>14763</td>\n",
              "      <td>12</td>\n",
              "      <td>1</td>\n",
              "    </tr>\n",
              "    <tr>\n",
              "      <th>12</th>\n",
              "      <td>11534</td>\n",
              "      <td>11618</td>\n",
              "      <td>13573</td>\n",
              "      <td>8446</td>\n",
              "      <td>6385</td>\n",
              "      <td>11351</td>\n",
              "      <td>13718</td>\n",
              "      <td>13</td>\n",
              "      <td>1</td>\n",
              "    </tr>\n",
              "    <tr>\n",
              "      <th>13</th>\n",
              "      <td>11513</td>\n",
              "      <td>5519</td>\n",
              "      <td>6355</td>\n",
              "      <td>10151</td>\n",
              "      <td>11958</td>\n",
              "      <td>13468</td>\n",
              "      <td>12615</td>\n",
              "      <td>14</td>\n",
              "      <td>1</td>\n",
              "    </tr>\n",
              "    <tr>\n",
              "      <th>14</th>\n",
              "      <td>8346</td>\n",
              "      <td>4611</td>\n",
              "      <td>5282</td>\n",
              "      <td>7492</td>\n",
              "      <td>8412</td>\n",
              "      <td>6966</td>\n",
              "      <td>9428</td>\n",
              "      <td>15</td>\n",
              "      <td>1</td>\n",
              "    </tr>\n",
              "    <tr>\n",
              "      <th>15</th>\n",
              "      <td>7860</td>\n",
              "      <td>8012</td>\n",
              "      <td>6086</td>\n",
              "      <td>7272</td>\n",
              "      <td>7945</td>\n",
              "      <td>5727</td>\n",
              "      <td>8999</td>\n",
              "      <td>16</td>\n",
              "      <td>1</td>\n",
              "    </tr>\n",
              "    <tr>\n",
              "      <th>16</th>\n",
              "      <td>10394</td>\n",
              "      <td>10268</td>\n",
              "      <td>11234</td>\n",
              "      <td>5330</td>\n",
              "      <td>8151</td>\n",
              "      <td>10133</td>\n",
              "      <td>12708</td>\n",
              "      <td>17</td>\n",
              "      <td>1</td>\n",
              "    </tr>\n",
              "    <tr>\n",
              "      <th>17</th>\n",
              "      <td>10187</td>\n",
              "      <td>5580</td>\n",
              "      <td>7087</td>\n",
              "      <td>9699</td>\n",
              "      <td>11032</td>\n",
              "      <td>10960</td>\n",
              "      <td>11138</td>\n",
              "      <td>18</td>\n",
              "      <td>1</td>\n",
              "    </tr>\n",
              "    <tr>\n",
              "      <th>18</th>\n",
              "      <td>10131</td>\n",
              "      <td>6387</td>\n",
              "      <td>7070</td>\n",
              "      <td>9645</td>\n",
              "      <td>9760</td>\n",
              "      <td>6848</td>\n",
              "      <td>10905</td>\n",
              "      <td>19</td>\n",
              "      <td>1</td>\n",
              "    </tr>\n",
              "    <tr>\n",
              "      <th>19</th>\n",
              "      <td>10396</td>\n",
              "      <td>5842</td>\n",
              "      <td>6296</td>\n",
              "      <td>9565</td>\n",
              "      <td>9768</td>\n",
              "      <td>6662</td>\n",
              "      <td>11378</td>\n",
              "      <td>20</td>\n",
              "      <td>1</td>\n",
              "    </tr>\n",
              "    <tr>\n",
              "      <th>20</th>\n",
              "      <td>9464</td>\n",
              "      <td>6976</td>\n",
              "      <td>6540</td>\n",
              "      <td>8890</td>\n",
              "      <td>9189</td>\n",
              "      <td>6265</td>\n",
              "      <td>10065</td>\n",
              "      <td>21</td>\n",
              "      <td>1</td>\n",
              "    </tr>\n",
              "    <tr>\n",
              "      <th>21</th>\n",
              "      <td>10055</td>\n",
              "      <td>6920</td>\n",
              "      <td>6859</td>\n",
              "      <td>9860</td>\n",
              "      <td>10483</td>\n",
              "      <td>7553</td>\n",
              "      <td>9916</td>\n",
              "      <td>22</td>\n",
              "      <td>1</td>\n",
              "    </tr>\n",
              "    <tr>\n",
              "      <th>22</th>\n",
              "      <td>10015</td>\n",
              "      <td>7200</td>\n",
              "      <td>7209</td>\n",
              "      <td>10035</td>\n",
              "      <td>10269</td>\n",
              "      <td>7544</td>\n",
              "      <td>10426</td>\n",
              "      <td>23</td>\n",
              "      <td>1</td>\n",
              "    </tr>\n",
              "    <tr>\n",
              "      <th>23</th>\n",
              "      <td>10027</td>\n",
              "      <td>5908</td>\n",
              "      <td>6894</td>\n",
              "      <td>10001</td>\n",
              "      <td>10186</td>\n",
              "      <td>7953</td>\n",
              "      <td>10225</td>\n",
              "      <td>24</td>\n",
              "      <td>1</td>\n",
              "    </tr>\n",
              "    <tr>\n",
              "      <th>24</th>\n",
              "      <td>8582</td>\n",
              "      <td>5460</td>\n",
              "      <td>6345</td>\n",
              "      <td>8864</td>\n",
              "      <td>9249</td>\n",
              "      <td>6445</td>\n",
              "      <td>9715</td>\n",
              "      <td>25</td>\n",
              "      <td>1</td>\n",
              "    </tr>\n",
              "    <tr>\n",
              "      <th>25</th>\n",
              "      <td>8335</td>\n",
              "      <td>5560</td>\n",
              "      <td>6040</td>\n",
              "      <td>8677</td>\n",
              "      <td>8682</td>\n",
              "      <td>6184</td>\n",
              "      <td>9218</td>\n",
              "      <td>26</td>\n",
              "      <td>1</td>\n",
              "    </tr>\n",
              "    <tr>\n",
              "      <th>26</th>\n",
              "      <td>8030</td>\n",
              "      <td>4823</td>\n",
              "      <td>5786</td>\n",
              "      <td>8555</td>\n",
              "      <td>8573</td>\n",
              "      <td>5998</td>\n",
              "      <td>9173</td>\n",
              "      <td>27</td>\n",
              "      <td>1</td>\n",
              "    </tr>\n",
              "    <tr>\n",
              "      <th>27</th>\n",
              "      <td>7088</td>\n",
              "      <td>7687</td>\n",
              "      <td>5945</td>\n",
              "      <td>8123</td>\n",
              "      <td>7490</td>\n",
              "      <td>5617</td>\n",
              "      <td>8049</td>\n",
              "      <td>28</td>\n",
              "      <td>1</td>\n",
              "    </tr>\n",
              "    <tr>\n",
              "      <th>28</th>\n",
              "      <td>10294</td>\n",
              "      <td>4851</td>\n",
              "      <td>6049</td>\n",
              "      <td>9972</td>\n",
              "      <td>11229</td>\n",
              "      <td>6289</td>\n",
              "      <td>7006</td>\n",
              "      <td>29</td>\n",
              "      <td>1</td>\n",
              "    </tr>\n",
              "    <tr>\n",
              "      <th>29</th>\n",
              "      <td>6555</td>\n",
              "      <td>4777</td>\n",
              "      <td>5390</td>\n",
              "      <td>8035</td>\n",
              "      <td>7647</td>\n",
              "      <td>5389</td>\n",
              "      <td>8497</td>\n",
              "      <td>30</td>\n",
              "      <td>1</td>\n",
              "    </tr>\n",
              "    <tr>\n",
              "      <th>30</th>\n",
              "      <td>6882</td>\n",
              "      <td>5429</td>\n",
              "      <td>5739</td>\n",
              "      <td>8548</td>\n",
              "      <td>8217</td>\n",
              "      <td>5921</td>\n",
              "      <td>8273</td>\n",
              "      <td>31</td>\n",
              "      <td>1</td>\n",
              "    </tr>\n",
              "    <tr>\n",
              "      <th>31</th>\n",
              "      <td>7735</td>\n",
              "      <td>5244</td>\n",
              "      <td>5859</td>\n",
              "      <td>8147</td>\n",
              "      <td>8436</td>\n",
              "      <td>5939</td>\n",
              "      <td>8414</td>\n",
              "      <td>32</td>\n",
              "      <td>1</td>\n",
              "    </tr>\n",
              "    <tr>\n",
              "      <th>32</th>\n",
              "      <td>7675</td>\n",
              "      <td>5416</td>\n",
              "      <td>5573</td>\n",
              "      <td>8390</td>\n",
              "      <td>8180</td>\n",
              "      <td>6339</td>\n",
              "      <td>8471</td>\n",
              "      <td>33</td>\n",
              "      <td>1</td>\n",
              "    </tr>\n",
              "    <tr>\n",
              "      <th>33</th>\n",
              "      <td>7632</td>\n",
              "      <td>5067</td>\n",
              "      <td>5681</td>\n",
              "      <td>7973</td>\n",
              "      <td>8487</td>\n",
              "      <td>7565</td>\n",
              "      <td>8354</td>\n",
              "      <td>34</td>\n",
              "      <td>1</td>\n",
              "    </tr>\n",
              "    <tr>\n",
              "      <th>34</th>\n",
              "      <td>7623</td>\n",
              "      <td>5018</td>\n",
              "      <td>5493</td>\n",
              "      <td>7619</td>\n",
              "      <td>8031</td>\n",
              "      <td>6371</td>\n",
              "      <td>7722</td>\n",
              "      <td>35</td>\n",
              "      <td>1</td>\n",
              "    </tr>\n",
              "    <tr>\n",
              "      <th>35</th>\n",
              "      <td>7037</td>\n",
              "      <td>5146</td>\n",
              "      <td>5504</td>\n",
              "      <td>7208</td>\n",
              "      <td>7504</td>\n",
              "      <td>6216</td>\n",
              "      <td>7271</td>\n",
              "      <td>36</td>\n",
              "      <td>1</td>\n",
              "    </tr>\n",
              "    <tr>\n",
              "      <th>36</th>\n",
              "      <td>7484</td>\n",
              "      <td>6663</td>\n",
              "      <td>6004</td>\n",
              "      <td>7322</td>\n",
              "      <td>7576</td>\n",
              "      <td>6535</td>\n",
              "      <td>7490</td>\n",
              "      <td>37</td>\n",
              "      <td>1</td>\n",
              "    </tr>\n",
              "    <tr>\n",
              "      <th>37</th>\n",
              "      <td>8662</td>\n",
              "      <td>5183</td>\n",
              "      <td>6663</td>\n",
              "      <td>8838</td>\n",
              "      <td>8717</td>\n",
              "      <td>4505</td>\n",
              "      <td>8125</td>\n",
              "      <td>38</td>\n",
              "      <td>1</td>\n",
              "    </tr>\n",
              "    <tr>\n",
              "      <th>38</th>\n",
              "      <td>7432</td>\n",
              "      <td>5148</td>\n",
              "      <td>5068</td>\n",
              "      <td>6750</td>\n",
              "      <td>7140</td>\n",
              "      <td>5349</td>\n",
              "      <td>7134</td>\n",
              "      <td>39</td>\n",
              "      <td>1</td>\n",
              "    </tr>\n",
              "    <tr>\n",
              "      <th>39</th>\n",
              "      <td>7103</td>\n",
              "      <td>4704</td>\n",
              "      <td>4431</td>\n",
              "      <td>6110</td>\n",
              "      <td>6571</td>\n",
              "      <td>5149</td>\n",
              "      <td>6737</td>\n",
              "      <td>40</td>\n",
              "      <td>1</td>\n",
              "    </tr>\n",
              "    <tr>\n",
              "      <th>40</th>\n",
              "      <td>6613</td>\n",
              "      <td>3693</td>\n",
              "      <td>3883</td>\n",
              "      <td>5828</td>\n",
              "      <td>5916</td>\n",
              "      <td>4648</td>\n",
              "      <td>6839</td>\n",
              "      <td>41</td>\n",
              "      <td>1</td>\n",
              "    </tr>\n",
              "    <tr>\n",
              "      <th>41</th>\n",
              "      <td>5343</td>\n",
              "      <td>2909</td>\n",
              "      <td>3003</td>\n",
              "      <td>4450</td>\n",
              "      <td>4464</td>\n",
              "      <td>3615</td>\n",
              "      <td>5384</td>\n",
              "      <td>42</td>\n",
              "      <td>1</td>\n",
              "    </tr>\n",
              "    <tr>\n",
              "      <th>42</th>\n",
              "      <td>4371</td>\n",
              "      <td>3030</td>\n",
              "      <td>2599</td>\n",
              "      <td>3513</td>\n",
              "      <td>3710</td>\n",
              "      <td>2627</td>\n",
              "      <td>3960</td>\n",
              "      <td>43</td>\n",
              "      <td>1</td>\n",
              "    </tr>\n",
              "    <tr>\n",
              "      <th>43</th>\n",
              "      <td>4209</td>\n",
              "      <td>1877</td>\n",
              "      <td>2376</td>\n",
              "      <td>3333</td>\n",
              "      <td>3886</td>\n",
              "      <td>2605</td>\n",
              "      <td>3068</td>\n",
              "      <td>44</td>\n",
              "      <td>1</td>\n",
              "    </tr>\n",
              "    <tr>\n",
              "      <th>44</th>\n",
              "      <td>2368</td>\n",
              "      <td>1402</td>\n",
              "      <td>1694</td>\n",
              "      <td>2419</td>\n",
              "      <td>2444</td>\n",
              "      <td>1792</td>\n",
              "      <td>2596</td>\n",
              "      <td>45</td>\n",
              "      <td>1</td>\n",
              "    </tr>\n",
              "    <tr>\n",
              "      <th>45</th>\n",
              "      <td>2088</td>\n",
              "      <td>990</td>\n",
              "      <td>1276</td>\n",
              "      <td>1825</td>\n",
              "      <td>2002</td>\n",
              "      <td>1492</td>\n",
              "      <td>1727</td>\n",
              "      <td>46</td>\n",
              "      <td>1</td>\n",
              "    </tr>\n",
              "    <tr>\n",
              "      <th>46</th>\n",
              "      <td>1502</td>\n",
              "      <td>922</td>\n",
              "      <td>1119</td>\n",
              "      <td>1263</td>\n",
              "      <td>1766</td>\n",
              "      <td>1187</td>\n",
              "      <td>1651</td>\n",
              "      <td>47</td>\n",
              "      <td>1</td>\n",
              "    </tr>\n",
              "    <tr>\n",
              "      <th>47</th>\n",
              "      <td>1188</td>\n",
              "      <td>819</td>\n",
              "      <td>887</td>\n",
              "      <td>1085</td>\n",
              "      <td>1121</td>\n",
              "      <td>886</td>\n",
              "      <td>1233</td>\n",
              "      <td>48</td>\n",
              "      <td>1</td>\n",
              "    </tr>\n",
              "    <tr>\n",
              "      <th>48</th>\n",
              "      <td>992</td>\n",
              "      <td>866</td>\n",
              "      <td>899</td>\n",
              "      <td>857</td>\n",
              "      <td>1053</td>\n",
              "      <td>744</td>\n",
              "      <td>1058</td>\n",
              "      <td>49</td>\n",
              "      <td>1</td>\n",
              "    </tr>\n",
              "    <tr>\n",
              "      <th>49</th>\n",
              "      <td>953</td>\n",
              "      <td>921</td>\n",
              "      <td>802</td>\n",
              "      <td>1020</td>\n",
              "      <td>897</td>\n",
              "      <td>863</td>\n",
              "      <td>920</td>\n",
              "      <td>50</td>\n",
              "      <td>1</td>\n",
              "    </tr>\n",
              "  </tbody>\n",
              "</table>\n",
              "</div>"
            ],
            "text/plain": [
              "    Monday  Tuesday  Wednesday  Thursday  ...  Saturday  Sunday  Week  cluster\n",
              "0    13233    13270      12136     13436  ...     10634   16360     1        2\n",
              "1    17140     7222       9195     15149  ...     15083   16181     2        2\n",
              "2    12452     5823       6576     10618  ...      9389   14753     3        1\n",
              "3     9777     4885       6408     10240  ...      6745   12262     4        1\n",
              "4     7112        0        750      2836  ...      9294   10379     5        1\n",
              "5        9     4615       6523      9819  ...      7643    5740     6        1\n",
              "6     7842     4362       5056      8065  ...      5590    8777     7        1\n",
              "7     6340     3782       4656      7193  ...      4961    9326     8        1\n",
              "8     6411     4719       4639      6657  ...      4695    8369     9        1\n",
              "9     9226     4379       5103      7500  ...      5846    8077    10        1\n",
              "10    6906     6722       5714      6894  ...      5792    7838    11        1\n",
              "11   10518    10921      12248      7944  ...     12273   14763    12        1\n",
              "12   11534    11618      13573      8446  ...     11351   13718    13        1\n",
              "13   11513     5519       6355     10151  ...     13468   12615    14        1\n",
              "14    8346     4611       5282      7492  ...      6966    9428    15        1\n",
              "15    7860     8012       6086      7272  ...      5727    8999    16        1\n",
              "16   10394    10268      11234      5330  ...     10133   12708    17        1\n",
              "17   10187     5580       7087      9699  ...     10960   11138    18        1\n",
              "18   10131     6387       7070      9645  ...      6848   10905    19        1\n",
              "19   10396     5842       6296      9565  ...      6662   11378    20        1\n",
              "20    9464     6976       6540      8890  ...      6265   10065    21        1\n",
              "21   10055     6920       6859      9860  ...      7553    9916    22        1\n",
              "22   10015     7200       7209     10035  ...      7544   10426    23        1\n",
              "23   10027     5908       6894     10001  ...      7953   10225    24        1\n",
              "24    8582     5460       6345      8864  ...      6445    9715    25        1\n",
              "25    8335     5560       6040      8677  ...      6184    9218    26        1\n",
              "26    8030     4823       5786      8555  ...      5998    9173    27        1\n",
              "27    7088     7687       5945      8123  ...      5617    8049    28        1\n",
              "28   10294     4851       6049      9972  ...      6289    7006    29        1\n",
              "29    6555     4777       5390      8035  ...      5389    8497    30        1\n",
              "30    6882     5429       5739      8548  ...      5921    8273    31        1\n",
              "31    7735     5244       5859      8147  ...      5939    8414    32        1\n",
              "32    7675     5416       5573      8390  ...      6339    8471    33        1\n",
              "33    7632     5067       5681      7973  ...      7565    8354    34        1\n",
              "34    7623     5018       5493      7619  ...      6371    7722    35        1\n",
              "35    7037     5146       5504      7208  ...      6216    7271    36        1\n",
              "36    7484     6663       6004      7322  ...      6535    7490    37        1\n",
              "37    8662     5183       6663      8838  ...      4505    8125    38        1\n",
              "38    7432     5148       5068      6750  ...      5349    7134    39        1\n",
              "39    7103     4704       4431      6110  ...      5149    6737    40        1\n",
              "40    6613     3693       3883      5828  ...      4648    6839    41        1\n",
              "41    5343     2909       3003      4450  ...      3615    5384    42        1\n",
              "42    4371     3030       2599      3513  ...      2627    3960    43        1\n",
              "43    4209     1877       2376      3333  ...      2605    3068    44        1\n",
              "44    2368     1402       1694      2419  ...      1792    2596    45        1\n",
              "45    2088      990       1276      1825  ...      1492    1727    46        1\n",
              "46    1502      922       1119      1263  ...      1187    1651    47        1\n",
              "47    1188      819        887      1085  ...       886    1233    48        1\n",
              "48     992      866        899       857  ...       744    1058    49        1\n",
              "49     953      921        802      1020  ...       863     920    50        1\n",
              "\n",
              "[50 rows x 9 columns]"
            ]
          },
          "metadata": {
            "tags": []
          },
          "execution_count": 169
        }
      ]
    },
    {
      "cell_type": "markdown",
      "metadata": {
        "id": "MuCwcd4yQ2Lr"
      },
      "source": [
        "**This is the line plot of cluster wrt week number to which it belong**"
      ]
    },
    {
      "cell_type": "code",
      "metadata": {
        "colab": {
          "base_uri": "https://localhost:8080/",
          "height": 463
        },
        "id": "FXi2OoDlWw7_",
        "outputId": "424fc095-50ef-4a18-9855-eac682c86463"
      },
      "source": [
        "from matplotlib.pyplot import MultipleLocator\n",
        "ax = plt.gca()\n",
        "\n",
        "dfinal.plot(kind='line',x='Week',y='cluster',ax=ax,marker='o')\n",
        "y_major_locator=MultipleLocator(1)\n",
        "\n",
        "ax=plt.gca()\n",
        "\n",
        "ax.yaxis.set_major_locator(y_major_locator)\n",
        "plt.show()\n"
      ],
      "execution_count": 170,
      "outputs": [
        {
          "output_type": "display_data",
          "data": {
            "image/png": "[encoded data removed]",
            "text/plain": [
              "<Figure size 748.8x514.8 with 1 Axes>"
            ]
          },
          "metadata": {
            "tags": [],
            "needs_background": "light"
          }
        }
      ]
    },
    {
      "cell_type": "code",
      "metadata": {
        "colab": {
          "base_uri": "https://localhost:8080/",
          "height": 417
        },
        "id": "yQy99CTmW81W",
        "outputId": "2f739e0e-6e08-4907-de8f-30fc64430a0c"
      },
      "source": [
        "dfinal"
      ],
      "execution_count": 171,
      "outputs": [
        {
          "output_type": "execute_result",
          "data": {
            "text/html": [
              "<div>\n",
              "<style scoped>\n",
              "    .dataframe tbody tr th:only-of-type {\n",
              "        vertical-align: middle;\n",
              "    }\n",
              "\n",
              "    .dataframe tbody tr th {\n",
              "        vertical-align: top;\n",
              "    }\n",
              "\n",
              "    .dataframe thead th {\n",
              "        text-align: right;\n",
              "    }\n",
              "</style>\n",
              "<table border=\"1\" class=\"dataframe\">\n",
              "  <thead>\n",
              "    <tr style=\"text-align: right;\">\n",
              "      <th></th>\n",
              "      <th>Monday</th>\n",
              "      <th>Tuesday</th>\n",
              "      <th>Wednesday</th>\n",
              "      <th>Thursday</th>\n",
              "      <th>Friday</th>\n",
              "      <th>Saturday</th>\n",
              "      <th>Sunday</th>\n",
              "      <th>Week</th>\n",
              "      <th>cluster</th>\n",
              "    </tr>\n",
              "  </thead>\n",
              "  <tbody>\n",
              "    <tr>\n",
              "      <th>0</th>\n",
              "      <td>13233</td>\n",
              "      <td>13270</td>\n",
              "      <td>12136</td>\n",
              "      <td>13436</td>\n",
              "      <td>12608</td>\n",
              "      <td>10634</td>\n",
              "      <td>16360</td>\n",
              "      <td>1</td>\n",
              "      <td>2</td>\n",
              "    </tr>\n",
              "    <tr>\n",
              "      <th>1</th>\n",
              "      <td>17140</td>\n",
              "      <td>7222</td>\n",
              "      <td>9195</td>\n",
              "      <td>15149</td>\n",
              "      <td>17832</td>\n",
              "      <td>15083</td>\n",
              "      <td>16181</td>\n",
              "      <td>2</td>\n",
              "      <td>2</td>\n",
              "    </tr>\n",
              "    <tr>\n",
              "      <th>2</th>\n",
              "      <td>12452</td>\n",
              "      <td>5823</td>\n",
              "      <td>6576</td>\n",
              "      <td>10618</td>\n",
              "      <td>11175</td>\n",
              "      <td>9389</td>\n",
              "      <td>14753</td>\n",
              "      <td>3</td>\n",
              "      <td>1</td>\n",
              "    </tr>\n",
              "    <tr>\n",
              "      <th>3</th>\n",
              "      <td>9777</td>\n",
              "      <td>4885</td>\n",
              "      <td>6408</td>\n",
              "      <td>10240</td>\n",
              "      <td>9708</td>\n",
              "      <td>6745</td>\n",
              "      <td>12262</td>\n",
              "      <td>4</td>\n",
              "      <td>1</td>\n",
              "    </tr>\n",
              "    <tr>\n",
              "      <th>4</th>\n",
              "      <td>7112</td>\n",
              "      <td>0</td>\n",
              "      <td>750</td>\n",
              "      <td>2836</td>\n",
              "      <td>9001</td>\n",
              "      <td>9294</td>\n",
              "      <td>10379</td>\n",
              "      <td>5</td>\n",
              "      <td>1</td>\n",
              "    </tr>\n",
              "    <tr>\n",
              "      <th>...</th>\n",
              "      <td>...</td>\n",
              "      <td>...</td>\n",
              "      <td>...</td>\n",
              "      <td>...</td>\n",
              "      <td>...</td>\n",
              "      <td>...</td>\n",
              "      <td>...</td>\n",
              "      <td>...</td>\n",
              "      <td>...</td>\n",
              "    </tr>\n",
              "    <tr>\n",
              "      <th>111</th>\n",
              "      <td>19968</td>\n",
              "      <td>14256</td>\n",
              "      <td>15389</td>\n",
              "      <td>20235</td>\n",
              "      <td>21495</td>\n",
              "      <td>12514</td>\n",
              "      <td>17195</td>\n",
              "      <td>112</td>\n",
              "      <td>2</td>\n",
              "    </tr>\n",
              "    <tr>\n",
              "      <th>112</th>\n",
              "      <td>18661</td>\n",
              "      <td>17862</td>\n",
              "      <td>16867</td>\n",
              "      <td>20983</td>\n",
              "      <td>20403</td>\n",
              "      <td>12258</td>\n",
              "      <td>20125</td>\n",
              "      <td>113</td>\n",
              "      <td>2</td>\n",
              "    </tr>\n",
              "    <tr>\n",
              "      <th>113</th>\n",
              "      <td>23913</td>\n",
              "      <td>14790</td>\n",
              "      <td>17832</td>\n",
              "      <td>21426</td>\n",
              "      <td>23277</td>\n",
              "      <td>13842</td>\n",
              "      <td>18563</td>\n",
              "      <td>114</td>\n",
              "      <td>2</td>\n",
              "    </tr>\n",
              "    <tr>\n",
              "      <th>114</th>\n",
              "      <td>17880</td>\n",
              "      <td>14628</td>\n",
              "      <td>15571</td>\n",
              "      <td>18494</td>\n",
              "      <td>19401</td>\n",
              "      <td>12654</td>\n",
              "      <td>19243</td>\n",
              "      <td>115</td>\n",
              "      <td>2</td>\n",
              "    </tr>\n",
              "    <tr>\n",
              "      <th>115</th>\n",
              "      <td>19091</td>\n",
              "      <td>20946</td>\n",
              "      <td>22821</td>\n",
              "      <td>21204</td>\n",
              "      <td>19516</td>\n",
              "      <td>16446</td>\n",
              "      <td>20509</td>\n",
              "      <td>116</td>\n",
              "      <td>2</td>\n",
              "    </tr>\n",
              "  </tbody>\n",
              "</table>\n",
              "<p>116 rows × 9 columns</p>\n",
              "</div>"
            ],
            "text/plain": [
              "     Monday  Tuesday  Wednesday  Thursday  ...  Saturday  Sunday  Week  cluster\n",
              "0     13233    13270      12136     13436  ...     10634   16360     1        2\n",
              "1     17140     7222       9195     15149  ...     15083   16181     2        2\n",
              "2     12452     5823       6576     10618  ...      9389   14753     3        1\n",
              "3      9777     4885       6408     10240  ...      6745   12262     4        1\n",
              "4      7112        0        750      2836  ...      9294   10379     5        1\n",
              "..      ...      ...        ...       ...  ...       ...     ...   ...      ...\n",
              "111   19968    14256      15389     20235  ...     12514   17195   112        2\n",
              "112   18661    17862      16867     20983  ...     12258   20125   113        2\n",
              "113   23913    14790      17832     21426  ...     13842   18563   114        2\n",
              "114   17880    14628      15571     18494  ...     12654   19243   115        2\n",
              "115   19091    20946      22821     21204  ...     16446   20509   116        2\n",
              "\n",
              "[116 rows x 9 columns]"
            ]
          },
          "metadata": {
            "tags": []
          },
          "execution_count": 171
        }
      ]
    },
    {
      "cell_type": "code",
      "metadata": {
        "id": "u-lWFSBMHXtN",
        "colab": {
          "base_uri": "https://localhost:8080/",
          "height": 203
        },
        "outputId": "18d1b999-cd0b-4bc6-d524-3e6e36a5548e"
      },
      "source": [
        "\n",
        "data.head()"
      ],
      "execution_count": 172,
      "outputs": [
        {
          "output_type": "execute_result",
          "data": {
            "text/html": [
              "<div>\n",
              "<style scoped>\n",
              "    .dataframe tbody tr th:only-of-type {\n",
              "        vertical-align: middle;\n",
              "    }\n",
              "\n",
              "    .dataframe tbody tr th {\n",
              "        vertical-align: top;\n",
              "    }\n",
              "\n",
              "    .dataframe thead th {\n",
              "        text-align: right;\n",
              "    }\n",
              "</style>\n",
              "<table border=\"1\" class=\"dataframe\">\n",
              "  <thead>\n",
              "    <tr style=\"text-align: right;\">\n",
              "      <th></th>\n",
              "      <th>Date</th>\n",
              "      <th>Austin Bergstrom International (AUS)</th>\n",
              "      <th>Day</th>\n",
              "    </tr>\n",
              "  </thead>\n",
              "  <tbody>\n",
              "    <tr>\n",
              "      <th>0</th>\n",
              "      <td>2021-03-22</td>\n",
              "      <td>13233</td>\n",
              "      <td>Monday</td>\n",
              "    </tr>\n",
              "    <tr>\n",
              "      <th>1</th>\n",
              "      <td>2021-03-21</td>\n",
              "      <td>16360</td>\n",
              "      <td>Sunday</td>\n",
              "    </tr>\n",
              "    <tr>\n",
              "      <th>2</th>\n",
              "      <td>2021-03-20</td>\n",
              "      <td>10634</td>\n",
              "      <td>Saturday</td>\n",
              "    </tr>\n",
              "    <tr>\n",
              "      <th>3</th>\n",
              "      <td>2021-03-19</td>\n",
              "      <td>12608</td>\n",
              "      <td>Friday</td>\n",
              "    </tr>\n",
              "    <tr>\n",
              "      <th>4</th>\n",
              "      <td>2021-03-18</td>\n",
              "      <td>13436</td>\n",
              "      <td>Thursday</td>\n",
              "    </tr>\n",
              "  </tbody>\n",
              "</table>\n",
              "</div>"
            ],
            "text/plain": [
              "        Date  Austin Bergstrom International (AUS)        Day\n",
              "0 2021-03-22                                  13233    Monday\n",
              "1 2021-03-21                                  16360    Sunday\n",
              "2 2021-03-20                                  10634  Saturday\n",
              "3 2021-03-19                                  12608    Friday\n",
              "4 2021-03-18                                  13436  Thursday"
            ]
          },
          "metadata": {
            "tags": []
          },
          "execution_count": 172
        }
      ]
    },
    {
      "cell_type": "code",
      "metadata": {
        "id": "HNV1LLtatQZe"
      },
      "source": [
        ""
      ],
      "execution_count": 172,
      "outputs": []
    },
    {
      "cell_type": "code",
      "metadata": {
        "colab": {
          "base_uri": "https://localhost:8080/",
          "height": 417
        },
        "id": "moB6ZPf6tWis",
        "outputId": "615cef30-5002-4359-a336-32686e543dd1"
      },
      "source": [
        "data"
      ],
      "execution_count": 173,
      "outputs": [
        {
          "output_type": "execute_result",
          "data": {
            "text/html": [
              "<div>\n",
              "<style scoped>\n",
              "    .dataframe tbody tr th:only-of-type {\n",
              "        vertical-align: middle;\n",
              "    }\n",
              "\n",
              "    .dataframe tbody tr th {\n",
              "        vertical-align: top;\n",
              "    }\n",
              "\n",
              "    .dataframe thead th {\n",
              "        text-align: right;\n",
              "    }\n",
              "</style>\n",
              "<table border=\"1\" class=\"dataframe\">\n",
              "  <thead>\n",
              "    <tr style=\"text-align: right;\">\n",
              "      <th></th>\n",
              "      <th>Date</th>\n",
              "      <th>Austin Bergstrom International (AUS)</th>\n",
              "      <th>Day</th>\n",
              "    </tr>\n",
              "  </thead>\n",
              "  <tbody>\n",
              "    <tr>\n",
              "      <th>0</th>\n",
              "      <td>2021-03-22</td>\n",
              "      <td>13233</td>\n",
              "      <td>Monday</td>\n",
              "    </tr>\n",
              "    <tr>\n",
              "      <th>1</th>\n",
              "      <td>2021-03-21</td>\n",
              "      <td>16360</td>\n",
              "      <td>Sunday</td>\n",
              "    </tr>\n",
              "    <tr>\n",
              "      <th>2</th>\n",
              "      <td>2021-03-20</td>\n",
              "      <td>10634</td>\n",
              "      <td>Saturday</td>\n",
              "    </tr>\n",
              "    <tr>\n",
              "      <th>3</th>\n",
              "      <td>2021-03-19</td>\n",
              "      <td>12608</td>\n",
              "      <td>Friday</td>\n",
              "    </tr>\n",
              "    <tr>\n",
              "      <th>4</th>\n",
              "      <td>2021-03-18</td>\n",
              "      <td>13436</td>\n",
              "      <td>Thursday</td>\n",
              "    </tr>\n",
              "    <tr>\n",
              "      <th>...</th>\n",
              "      <td>...</td>\n",
              "      <td>...</td>\n",
              "      <td>...</td>\n",
              "    </tr>\n",
              "    <tr>\n",
              "      <th>807</th>\n",
              "      <td>2019-01-05</td>\n",
              "      <td>16446</td>\n",
              "      <td>Saturday</td>\n",
              "    </tr>\n",
              "    <tr>\n",
              "      <th>808</th>\n",
              "      <td>2019-01-04</td>\n",
              "      <td>19516</td>\n",
              "      <td>Friday</td>\n",
              "    </tr>\n",
              "    <tr>\n",
              "      <th>809</th>\n",
              "      <td>2019-01-03</td>\n",
              "      <td>21204</td>\n",
              "      <td>Thursday</td>\n",
              "    </tr>\n",
              "    <tr>\n",
              "      <th>810</th>\n",
              "      <td>2019-01-02</td>\n",
              "      <td>22821</td>\n",
              "      <td>Wednesday</td>\n",
              "    </tr>\n",
              "    <tr>\n",
              "      <th>811</th>\n",
              "      <td>2019-01-01</td>\n",
              "      <td>20946</td>\n",
              "      <td>Tuesday</td>\n",
              "    </tr>\n",
              "  </tbody>\n",
              "</table>\n",
              "<p>812 rows × 3 columns</p>\n",
              "</div>"
            ],
            "text/plain": [
              "          Date  Austin Bergstrom International (AUS)         Day\n",
              "0   2021-03-22                                  13233     Monday\n",
              "1   2021-03-21                                  16360     Sunday\n",
              "2   2021-03-20                                  10634   Saturday\n",
              "3   2021-03-19                                  12608     Friday\n",
              "4   2021-03-18                                  13436   Thursday\n",
              "..         ...                                    ...        ...\n",
              "807 2019-01-05                                  16446   Saturday\n",
              "808 2019-01-04                                  19516     Friday\n",
              "809 2019-01-03                                  21204   Thursday\n",
              "810 2019-01-02                                  22821  Wednesday\n",
              "811 2019-01-01                                  20946    Tuesday\n",
              "\n",
              "[812 rows x 3 columns]"
            ]
          },
          "metadata": {
            "tags": []
          },
          "execution_count": 173
        }
      ]
    },
    {
      "cell_type": "code",
      "metadata": {
        "id": "DRh7nUEMtoEl"
      },
      "source": [
        "week=[]\n",
        "i=1\n",
        "for value in data[\"Day\"]:\n",
        "    week.append(i)\n",
        "    if value=='Tuesday': \n",
        "        i=i+1\n",
        "\n",
        "data[\"Week\"] = week"
      ],
      "execution_count": 174,
      "outputs": []
    },
    {
      "cell_type": "code",
      "metadata": {
        "colab": {
          "base_uri": "https://localhost:8080/",
          "height": 665
        },
        "id": "nrGw1iyQt0iD",
        "outputId": "329556dd-3ec9-43e5-e124-9c619a575276"
      },
      "source": [
        "data.head(20)"
      ],
      "execution_count": 175,
      "outputs": [
        {
          "output_type": "execute_result",
          "data": {
            "text/html": [
              "<div>\n",
              "<style scoped>\n",
              "    .dataframe tbody tr th:only-of-type {\n",
              "        vertical-align: middle;\n",
              "    }\n",
              "\n",
              "    .dataframe tbody tr th {\n",
              "        vertical-align: top;\n",
              "    }\n",
              "\n",
              "    .dataframe thead th {\n",
              "        text-align: right;\n",
              "    }\n",
              "</style>\n",
              "<table border=\"1\" class=\"dataframe\">\n",
              "  <thead>\n",
              "    <tr style=\"text-align: right;\">\n",
              "      <th></th>\n",
              "      <th>Date</th>\n",
              "      <th>Austin Bergstrom International (AUS)</th>\n",
              "      <th>Day</th>\n",
              "      <th>Week</th>\n",
              "    </tr>\n",
              "  </thead>\n",
              "  <tbody>\n",
              "    <tr>\n",
              "      <th>0</th>\n",
              "      <td>2021-03-22</td>\n",
              "      <td>13233</td>\n",
              "      <td>Monday</td>\n",
              "      <td>1</td>\n",
              "    </tr>\n",
              "    <tr>\n",
              "      <th>1</th>\n",
              "      <td>2021-03-21</td>\n",
              "      <td>16360</td>\n",
              "      <td>Sunday</td>\n",
              "      <td>1</td>\n",
              "    </tr>\n",
              "    <tr>\n",
              "      <th>2</th>\n",
              "      <td>2021-03-20</td>\n",
              "      <td>10634</td>\n",
              "      <td>Saturday</td>\n",
              "      <td>1</td>\n",
              "    </tr>\n",
              "    <tr>\n",
              "      <th>3</th>\n",
              "      <td>2021-03-19</td>\n",
              "      <td>12608</td>\n",
              "      <td>Friday</td>\n",
              "      <td>1</td>\n",
              "    </tr>\n",
              "    <tr>\n",
              "      <th>4</th>\n",
              "      <td>2021-03-18</td>\n",
              "      <td>13436</td>\n",
              "      <td>Thursday</td>\n",
              "      <td>1</td>\n",
              "    </tr>\n",
              "    <tr>\n",
              "      <th>5</th>\n",
              "      <td>2021-03-17</td>\n",
              "      <td>12136</td>\n",
              "      <td>Wednesday</td>\n",
              "      <td>1</td>\n",
              "    </tr>\n",
              "    <tr>\n",
              "      <th>6</th>\n",
              "      <td>2021-03-16</td>\n",
              "      <td>13270</td>\n",
              "      <td>Tuesday</td>\n",
              "      <td>1</td>\n",
              "    </tr>\n",
              "    <tr>\n",
              "      <th>7</th>\n",
              "      <td>2021-03-15</td>\n",
              "      <td>17140</td>\n",
              "      <td>Monday</td>\n",
              "      <td>2</td>\n",
              "    </tr>\n",
              "    <tr>\n",
              "      <th>8</th>\n",
              "      <td>2021-03-14</td>\n",
              "      <td>16181</td>\n",
              "      <td>Sunday</td>\n",
              "      <td>2</td>\n",
              "    </tr>\n",
              "    <tr>\n",
              "      <th>9</th>\n",
              "      <td>2021-03-13</td>\n",
              "      <td>15083</td>\n",
              "      <td>Saturday</td>\n",
              "      <td>2</td>\n",
              "    </tr>\n",
              "    <tr>\n",
              "      <th>10</th>\n",
              "      <td>2021-03-12</td>\n",
              "      <td>17832</td>\n",
              "      <td>Friday</td>\n",
              "      <td>2</td>\n",
              "    </tr>\n",
              "    <tr>\n",
              "      <th>11</th>\n",
              "      <td>2021-03-11</td>\n",
              "      <td>15149</td>\n",
              "      <td>Thursday</td>\n",
              "      <td>2</td>\n",
              "    </tr>\n",
              "    <tr>\n",
              "      <th>12</th>\n",
              "      <td>2021-03-10</td>\n",
              "      <td>9195</td>\n",
              "      <td>Wednesday</td>\n",
              "      <td>2</td>\n",
              "    </tr>\n",
              "    <tr>\n",
              "      <th>13</th>\n",
              "      <td>2021-03-09</td>\n",
              "      <td>7222</td>\n",
              "      <td>Tuesday</td>\n",
              "      <td>2</td>\n",
              "    </tr>\n",
              "    <tr>\n",
              "      <th>14</th>\n",
              "      <td>2021-03-08</td>\n",
              "      <td>12452</td>\n",
              "      <td>Monday</td>\n",
              "      <td>3</td>\n",
              "    </tr>\n",
              "    <tr>\n",
              "      <th>15</th>\n",
              "      <td>2021-03-07</td>\n",
              "      <td>14753</td>\n",
              "      <td>Sunday</td>\n",
              "      <td>3</td>\n",
              "    </tr>\n",
              "    <tr>\n",
              "      <th>16</th>\n",
              "      <td>2021-03-06</td>\n",
              "      <td>9389</td>\n",
              "      <td>Saturday</td>\n",
              "      <td>3</td>\n",
              "    </tr>\n",
              "    <tr>\n",
              "      <th>17</th>\n",
              "      <td>2021-03-05</td>\n",
              "      <td>11175</td>\n",
              "      <td>Friday</td>\n",
              "      <td>3</td>\n",
              "    </tr>\n",
              "    <tr>\n",
              "      <th>18</th>\n",
              "      <td>2021-03-04</td>\n",
              "      <td>10618</td>\n",
              "      <td>Thursday</td>\n",
              "      <td>3</td>\n",
              "    </tr>\n",
              "    <tr>\n",
              "      <th>19</th>\n",
              "      <td>2021-03-03</td>\n",
              "      <td>6576</td>\n",
              "      <td>Wednesday</td>\n",
              "      <td>3</td>\n",
              "    </tr>\n",
              "  </tbody>\n",
              "</table>\n",
              "</div>"
            ],
            "text/plain": [
              "         Date  Austin Bergstrom International (AUS)         Day  Week\n",
              "0  2021-03-22                                  13233     Monday     1\n",
              "1  2021-03-21                                  16360     Sunday     1\n",
              "2  2021-03-20                                  10634   Saturday     1\n",
              "3  2021-03-19                                  12608     Friday     1\n",
              "4  2021-03-18                                  13436   Thursday     1\n",
              "5  2021-03-17                                  12136  Wednesday     1\n",
              "6  2021-03-16                                  13270    Tuesday     1\n",
              "7  2021-03-15                                  17140     Monday     2\n",
              "8  2021-03-14                                  16181     Sunday     2\n",
              "9  2021-03-13                                  15083   Saturday     2\n",
              "10 2021-03-12                                  17832     Friday     2\n",
              "11 2021-03-11                                  15149   Thursday     2\n",
              "12 2021-03-10                                   9195  Wednesday     2\n",
              "13 2021-03-09                                   7222    Tuesday     2\n",
              "14 2021-03-08                                  12452     Monday     3\n",
              "15 2021-03-07                                  14753     Sunday     3\n",
              "16 2021-03-06                                   9389   Saturday     3\n",
              "17 2021-03-05                                  11175     Friday     3\n",
              "18 2021-03-04                                  10618   Thursday     3\n",
              "19 2021-03-03                                   6576  Wednesday     3"
            ]
          },
          "metadata": {
            "tags": []
          },
          "execution_count": 175
        }
      ]
    },
    {
      "cell_type": "code",
      "metadata": {
        "colab": {
          "base_uri": "https://localhost:8080/"
        },
        "id": "S2rpxHxut1gN",
        "outputId": "17012443-d790-40f0-a486-7dbe2b7378aa"
      },
      "source": [
        "data.isnull().sum()"
      ],
      "execution_count": 176,
      "outputs": [
        {
          "output_type": "execute_result",
          "data": {
            "text/plain": [
              "Date                                     0\n",
              "Austin Bergstrom International (AUS)     0\n",
              "Day                                      0\n",
              "Week                                     0\n",
              "dtype: int64"
            ]
          },
          "metadata": {
            "tags": []
          },
          "execution_count": 176
        }
      ]
    },
    {
      "cell_type": "code",
      "metadata": {
        "colab": {
          "base_uri": "https://localhost:8080/"
        },
        "id": "B6j4KZy7v1Y0",
        "outputId": "a0f64a53-322e-4d6d-d550-24c34dd32268"
      },
      "source": [
        "data.columns"
      ],
      "execution_count": 177,
      "outputs": [
        {
          "output_type": "execute_result",
          "data": {
            "text/plain": [
              "Index(['Date', 'Austin Bergstrom International (AUS) ', 'Day', 'Week'], dtype='object')"
            ]
          },
          "metadata": {
            "tags": []
          },
          "execution_count": 177
        }
      ]
    },
    {
      "cell_type": "code",
      "metadata": {
        "colab": {
          "base_uri": "https://localhost:8080/"
        },
        "id": "8_4xwN7twLkB",
        "outputId": "1e42242d-260e-4373-8338-db6695080695"
      },
      "source": [
        "data.columns"
      ],
      "execution_count": 178,
      "outputs": [
        {
          "output_type": "execute_result",
          "data": {
            "text/plain": [
              "Index(['Date', 'Austin Bergstrom International (AUS) ', 'Day', 'Week'], dtype='object')"
            ]
          },
          "metadata": {
            "tags": []
          },
          "execution_count": 178
        }
      ]
    },
    {
      "cell_type": "code",
      "metadata": {
        "colab": {
          "base_uri": "https://localhost:8080/",
          "height": 417
        },
        "id": "eErhpJE-zRx6",
        "outputId": "b3da9d1e-af41-4c4c-d2f0-a86b748be1fe"
      },
      "source": [
        "data"
      ],
      "execution_count": 179,
      "outputs": [
        {
          "output_type": "execute_result",
          "data": {
            "text/html": [
              "<div>\n",
              "<style scoped>\n",
              "    .dataframe tbody tr th:only-of-type {\n",
              "        vertical-align: middle;\n",
              "    }\n",
              "\n",
              "    .dataframe tbody tr th {\n",
              "        vertical-align: top;\n",
              "    }\n",
              "\n",
              "    .dataframe thead th {\n",
              "        text-align: right;\n",
              "    }\n",
              "</style>\n",
              "<table border=\"1\" class=\"dataframe\">\n",
              "  <thead>\n",
              "    <tr style=\"text-align: right;\">\n",
              "      <th></th>\n",
              "      <th>Date</th>\n",
              "      <th>Austin Bergstrom International (AUS)</th>\n",
              "      <th>Day</th>\n",
              "      <th>Week</th>\n",
              "    </tr>\n",
              "  </thead>\n",
              "  <tbody>\n",
              "    <tr>\n",
              "      <th>0</th>\n",
              "      <td>2021-03-22</td>\n",
              "      <td>13233</td>\n",
              "      <td>Monday</td>\n",
              "      <td>1</td>\n",
              "    </tr>\n",
              "    <tr>\n",
              "      <th>1</th>\n",
              "      <td>2021-03-21</td>\n",
              "      <td>16360</td>\n",
              "      <td>Sunday</td>\n",
              "      <td>1</td>\n",
              "    </tr>\n",
              "    <tr>\n",
              "      <th>2</th>\n",
              "      <td>2021-03-20</td>\n",
              "      <td>10634</td>\n",
              "      <td>Saturday</td>\n",
              "      <td>1</td>\n",
              "    </tr>\n",
              "    <tr>\n",
              "      <th>3</th>\n",
              "      <td>2021-03-19</td>\n",
              "      <td>12608</td>\n",
              "      <td>Friday</td>\n",
              "      <td>1</td>\n",
              "    </tr>\n",
              "    <tr>\n",
              "      <th>4</th>\n",
              "      <td>2021-03-18</td>\n",
              "      <td>13436</td>\n",
              "      <td>Thursday</td>\n",
              "      <td>1</td>\n",
              "    </tr>\n",
              "    <tr>\n",
              "      <th>...</th>\n",
              "      <td>...</td>\n",
              "      <td>...</td>\n",
              "      <td>...</td>\n",
              "      <td>...</td>\n",
              "    </tr>\n",
              "    <tr>\n",
              "      <th>807</th>\n",
              "      <td>2019-01-05</td>\n",
              "      <td>16446</td>\n",
              "      <td>Saturday</td>\n",
              "      <td>116</td>\n",
              "    </tr>\n",
              "    <tr>\n",
              "      <th>808</th>\n",
              "      <td>2019-01-04</td>\n",
              "      <td>19516</td>\n",
              "      <td>Friday</td>\n",
              "      <td>116</td>\n",
              "    </tr>\n",
              "    <tr>\n",
              "      <th>809</th>\n",
              "      <td>2019-01-03</td>\n",
              "      <td>21204</td>\n",
              "      <td>Thursday</td>\n",
              "      <td>116</td>\n",
              "    </tr>\n",
              "    <tr>\n",
              "      <th>810</th>\n",
              "      <td>2019-01-02</td>\n",
              "      <td>22821</td>\n",
              "      <td>Wednesday</td>\n",
              "      <td>116</td>\n",
              "    </tr>\n",
              "    <tr>\n",
              "      <th>811</th>\n",
              "      <td>2019-01-01</td>\n",
              "      <td>20946</td>\n",
              "      <td>Tuesday</td>\n",
              "      <td>116</td>\n",
              "    </tr>\n",
              "  </tbody>\n",
              "</table>\n",
              "<p>812 rows × 4 columns</p>\n",
              "</div>"
            ],
            "text/plain": [
              "          Date  Austin Bergstrom International (AUS)         Day  Week\n",
              "0   2021-03-22                                  13233     Monday     1\n",
              "1   2021-03-21                                  16360     Sunday     1\n",
              "2   2021-03-20                                  10634   Saturday     1\n",
              "3   2021-03-19                                  12608     Friday     1\n",
              "4   2021-03-18                                  13436   Thursday     1\n",
              "..         ...                                    ...        ...   ...\n",
              "807 2019-01-05                                  16446   Saturday   116\n",
              "808 2019-01-04                                  19516     Friday   116\n",
              "809 2019-01-03                                  21204   Thursday   116\n",
              "810 2019-01-02                                  22821  Wednesday   116\n",
              "811 2019-01-01                                  20946    Tuesday   116\n",
              "\n",
              "[812 rows x 4 columns]"
            ]
          },
          "metadata": {
            "tags": []
          },
          "execution_count": 179
        }
      ]
    },
    {
      "cell_type": "code",
      "metadata": {
        "id": "FMmR4kOZ5Rlo"
      },
      "source": [
        "del data['Date']"
      ],
      "execution_count": 180,
      "outputs": []
    },
    {
      "cell_type": "markdown",
      "metadata": {
        "id": "XMWp1QmoTkhP"
      },
      "source": [
        "**This is a simple plot of passenger count vs day from 2021-03-22 to 2019-01-01**"
      ]
    },
    {
      "cell_type": "code",
      "metadata": {
        "colab": {
          "base_uri": "https://localhost:8080/",
          "height": 455
        },
        "id": "G7_JFhIV3unI",
        "outputId": "f32e32eb-7e11-4d2e-e14f-917b24c4502b"
      },
      "source": [
        "\n",
        "data.plot(figsize=(20,7), legend=None)\n",
        "plt.xlabel('Day')\n",
        "plt.ylabel('Passenger Count')\n",
        "plt.show()"
      ],
      "execution_count": 181,
      "outputs": [
        {
          "output_type": "display_data",
          "data": {
            "image/png": "[encoded data removed]",
            "text/plain": [
              "<Figure size 1440x504 with 1 Axes>"
            ]
          },
          "metadata": {
            "tags": [],
            "needs_background": "light"
          }
        }
      ]
    },
    {
      "cell_type": "markdown",
      "metadata": {
        "id": "SXRMIf3KUPck"
      },
      "source": [
        "**Matrix Profile analysis with window sizes of 4, 7 and 12 days**"
      ]
    },
    {
      "cell_type": "code",
      "metadata": {
        "id": "nzC1FY0nxT5K"
      },
      "source": [
        "windows = [\n",
        "    ('4 days', 4),\n",
        "    ('7 days', 7),\n",
        "    ('12 days', 12),\n",
        "]\n",
        "\n",
        "profiles = {}\n",
        "\n",
        "for label, window_size in windows:\n",
        "    profile = mp.compute(data['Austin Bergstrom International (AUS) '].values, window_size)\n",
        "    key = '{} Profile'.format(label)\n",
        "    profiles[key] = profile"
      ],
      "execution_count": 182,
      "outputs": []
    },
    {
      "cell_type": "markdown",
      "metadata": {
        "id": "59J89TjhUbsj"
      },
      "source": [
        "**Matrix Profile**"
      ]
    },
    {
      "cell_type": "code",
      "metadata": {
        "colab": {
          "base_uri": "https://localhost:8080/",
          "height": 585
        },
        "id": "rSOMvjmTx7-U",
        "outputId": "fe9db85f-315a-478b-c754-fa7e4fdb1e1b"
      },
      "source": [
        "\n",
        "fig, axes = plt.subplots(3,1,sharex=True,figsize=(15,8))\n",
        "\n",
        "for ax_idx, window in enumerate(windows):\n",
        "    key = '{} Profile'.format(window[0])\n",
        "    profile = profiles[key]\n",
        "    axes[ax_idx].plot(profile['mp'])\n",
        "    axes[ax_idx].set_title(key)\n",
        "\n",
        "plt.xlabel('Days')\n",
        "plt.tight_layout()\n",
        "plt.show()"
      ],
      "execution_count": 183,
      "outputs": [
        {
          "output_type": "display_data",
          "data": {
            "image/png": "[encoded data removed]",
            "text/plain": [
              "<Figure size 1080x576 with 3 Axes>"
            ]
          },
          "metadata": {
            "tags": [],
            "needs_background": "light"
          }
        }
      ]
    },
    {
      "cell_type": "markdown",
      "metadata": {
        "id": "90M8KxQqUrk6"
      },
      "source": [
        "**Anomalies for each window**"
      ]
    },
    {
      "cell_type": "code",
      "metadata": {
        "colab": {
          "base_uri": "https://localhost:8080/",
          "height": 1000
        },
        "id": "T8EOJvDsyNU7",
        "outputId": "aa3c2fd7-c3d4-49cc-f72a-82081ffae9d5"
      },
      "source": [
        "\n",
        "for label, window_size in windows:\n",
        "    key = '{} Profile'.format(label)\n",
        "    profiles[key] = mp.discover.discords(profiles[key], k=5)\n",
        "    \n",
        "    window_size = profiles[key]['w']\n",
        "    mp_adjusted = np.append(profiles[key]['mp'], np.zeros(window_size - 1) + np.nan)\n",
        "    \n",
        "    plt.figure(figsize=(10, 5))\n",
        "    ax = plt.plot(data.index.values, mp_adjusted)\n",
        "    plt.title(key)\n",
        "    \n",
        "    for start_index in profiles[key]['discords']:\n",
        "        x = data.index.values[start_index:start_index+window_size]\n",
        "        y = mp_adjusted[start_index:start_index+window_size]\n",
        "        plt.plot(x, y, c='r')\n",
        "    \n",
        "    plt.show()"
      ],
      "execution_count": 184,
      "outputs": [
        {
          "output_type": "display_data",
          "data": {
            "image/png": "[encoded data removed]",
            "text/plain": [
              "<Figure size 720x360 with 1 Axes>"
            ]
          },
          "metadata": {
            "tags": [],
            "needs_background": "light"
          }
        },
        {
          "output_type": "display_data",
          "data": {
            "image/png": "[encoded data removed]",
            "text/plain": [
              "<Figure size 720x360 with 1 Axes>"
            ]
          },
          "metadata": {
            "tags": [],
            "needs_background": "light"
          }
        },
        {
          "output_type": "display_data",
          "data": {
            "image/png": "[encoded data removed]",
            "text/plain": [
              "<Figure size 720x360 with 1 Axes>"
            ]
          },
          "metadata": {
            "tags": [],
            "needs_background": "light"
          }
        }
      ]
    },
    {
      "cell_type": "markdown",
      "metadata": {
        "id": "98_40iUrU9ug"
      },
      "source": [
        "**Discord for 7 day Profile**"
      ]
    },
    {
      "cell_type": "code",
      "metadata": {
        "id": "mXFtwbX8yTzl"
      },
      "source": [
        "\n",
        "key = '7 days Profile'\n",
        "profile = profiles[key]\n",
        "window_size = profile['w']\n",
        "mp_adjusted = np.append(profile['mp'], np.zeros(window_size - 1) + np.nan)\n",
        "data[key] = mp_adjusted"
      ],
      "execution_count": 185,
      "outputs": []
    },
    {
      "cell_type": "code",
      "metadata": {
        "colab": {
          "base_uri": "https://localhost:8080/",
          "height": 369
        },
        "id": "AJLuAOTGyrg8",
        "outputId": "17494a30-3a0e-4a83-cacd-34ffd2c0fe71"
      },
      "source": [
        "ax = data[key].plot(title='7 Day Matrix Profile\\nTop 5 Discords', figsize=(15,5))\n",
        "\n",
        "for discord in profile['discords']:\n",
        "    data.iloc[discord:discord+window_size][key].plot(ax=ax, c='r', lw='2')\n",
        "\n",
        "data.iloc[profile['discords']][key].plot(kind='line', marker='*', c='black', markersize=8, ax=ax, lw=0)\n",
        "plt.xlabel('Days')\n",
        "plt.tight_layout()\n",
        "plt.show()"
      ],
      "execution_count": 186,
      "outputs": [
        {
          "output_type": "display_data",
          "data": {
            "image/png": "[encoded data removed]",
            "text/plain": [
              "<Figure size 1080x360 with 1 Axes>"
            ]
          },
          "metadata": {
            "tags": [],
            "needs_background": "light"
          }
        }
      ]
    },
    {
      "cell_type": "code",
      "metadata": {
        "colab": {
          "base_uri": "https://localhost:8080/"
        },
        "id": "WkY2MjydyymW",
        "outputId": "b9ec93cb-6158-47bd-fe24-fb887f899802"
      },
      "source": [
        "data.columns"
      ],
      "execution_count": 187,
      "outputs": [
        {
          "output_type": "execute_result",
          "data": {
            "text/plain": [
              "Index(['Austin Bergstrom International (AUS) ', 'Day', 'Week',\n",
              "       '7 days Profile'],\n",
              "      dtype='object')"
            ]
          },
          "metadata": {
            "tags": []
          },
          "execution_count": 187
        }
      ]
    },
    {
      "cell_type": "code",
      "metadata": {
        "id": "a7GZ0-7lzHNa"
      },
      "source": [
        "del data['Week']"
      ],
      "execution_count": 188,
      "outputs": []
    },
    {
      "cell_type": "code",
      "metadata": {
        "id": "XPY-z1-2zZ0L"
      },
      "source": [
        "del data['7 days Profile']"
      ],
      "execution_count": 189,
      "outputs": []
    },
    {
      "cell_type": "code",
      "metadata": {
        "colab": {
          "base_uri": "https://localhost:8080/",
          "height": 417
        },
        "id": "6fVNPcoszf4E",
        "outputId": "5dc36752-40d0-4682-b662-01ffc9dea77d"
      },
      "source": [
        "data"
      ],
      "execution_count": 190,
      "outputs": [
        {
          "output_type": "execute_result",
          "data": {
            "text/html": [
              "<div>\n",
              "<style scoped>\n",
              "    .dataframe tbody tr th:only-of-type {\n",
              "        vertical-align: middle;\n",
              "    }\n",
              "\n",
              "    .dataframe tbody tr th {\n",
              "        vertical-align: top;\n",
              "    }\n",
              "\n",
              "    .dataframe thead th {\n",
              "        text-align: right;\n",
              "    }\n",
              "</style>\n",
              "<table border=\"1\" class=\"dataframe\">\n",
              "  <thead>\n",
              "    <tr style=\"text-align: right;\">\n",
              "      <th></th>\n",
              "      <th>Austin Bergstrom International (AUS)</th>\n",
              "      <th>Day</th>\n",
              "    </tr>\n",
              "  </thead>\n",
              "  <tbody>\n",
              "    <tr>\n",
              "      <th>0</th>\n",
              "      <td>13233</td>\n",
              "      <td>Monday</td>\n",
              "    </tr>\n",
              "    <tr>\n",
              "      <th>1</th>\n",
              "      <td>16360</td>\n",
              "      <td>Sunday</td>\n",
              "    </tr>\n",
              "    <tr>\n",
              "      <th>2</th>\n",
              "      <td>10634</td>\n",
              "      <td>Saturday</td>\n",
              "    </tr>\n",
              "    <tr>\n",
              "      <th>3</th>\n",
              "      <td>12608</td>\n",
              "      <td>Friday</td>\n",
              "    </tr>\n",
              "    <tr>\n",
              "      <th>4</th>\n",
              "      <td>13436</td>\n",
              "      <td>Thursday</td>\n",
              "    </tr>\n",
              "    <tr>\n",
              "      <th>...</th>\n",
              "      <td>...</td>\n",
              "      <td>...</td>\n",
              "    </tr>\n",
              "    <tr>\n",
              "      <th>807</th>\n",
              "      <td>16446</td>\n",
              "      <td>Saturday</td>\n",
              "    </tr>\n",
              "    <tr>\n",
              "      <th>808</th>\n",
              "      <td>19516</td>\n",
              "      <td>Friday</td>\n",
              "    </tr>\n",
              "    <tr>\n",
              "      <th>809</th>\n",
              "      <td>21204</td>\n",
              "      <td>Thursday</td>\n",
              "    </tr>\n",
              "    <tr>\n",
              "      <th>810</th>\n",
              "      <td>22821</td>\n",
              "      <td>Wednesday</td>\n",
              "    </tr>\n",
              "    <tr>\n",
              "      <th>811</th>\n",
              "      <td>20946</td>\n",
              "      <td>Tuesday</td>\n",
              "    </tr>\n",
              "  </tbody>\n",
              "</table>\n",
              "<p>812 rows × 2 columns</p>\n",
              "</div>"
            ],
            "text/plain": [
              "     Austin Bergstrom International (AUS)         Day\n",
              "0                                    13233     Monday\n",
              "1                                    16360     Sunday\n",
              "2                                    10634   Saturday\n",
              "3                                    12608     Friday\n",
              "4                                    13436   Thursday\n",
              "..                                     ...        ...\n",
              "807                                  16446   Saturday\n",
              "808                                  19516     Friday\n",
              "809                                  21204   Thursday\n",
              "810                                  22821  Wednesday\n",
              "811                                  20946    Tuesday\n",
              "\n",
              "[812 rows x 2 columns]"
            ]
          },
          "metadata": {
            "tags": []
          },
          "execution_count": 190
        }
      ]
    },
    {
      "cell_type": "code",
      "metadata": {
        "colab": {
          "base_uri": "https://localhost:8080/",
          "height": 265
        },
        "id": "fbFMB7IIzkwb",
        "outputId": "46cf6bd5-75da-4756-c35b-c0149d0a67e0"
      },
      "source": [
        "busiest_day = data.groupby([\"Day\"]).sum().sort_values(\"Austin Bergstrom International (AUS) \",ascending=False)\n",
        "busiest_day = busiest_day.reset_index()\n",
        "busiest_day"
      ],
      "execution_count": 191,
      "outputs": [
        {
          "output_type": "execute_result",
          "data": {
            "text/html": [
              "<div>\n",
              "<style scoped>\n",
              "    .dataframe tbody tr th:only-of-type {\n",
              "        vertical-align: middle;\n",
              "    }\n",
              "\n",
              "    .dataframe tbody tr th {\n",
              "        vertical-align: top;\n",
              "    }\n",
              "\n",
              "    .dataframe thead th {\n",
              "        text-align: right;\n",
              "    }\n",
              "</style>\n",
              "<table border=\"1\" class=\"dataframe\">\n",
              "  <thead>\n",
              "    <tr style=\"text-align: right;\">\n",
              "      <th></th>\n",
              "      <th>Day</th>\n",
              "      <th>Austin Bergstrom International (AUS)</th>\n",
              "    </tr>\n",
              "  </thead>\n",
              "  <tbody>\n",
              "    <tr>\n",
              "      <th>0</th>\n",
              "      <td>Sunday</td>\n",
              "      <td>2039338</td>\n",
              "    </tr>\n",
              "    <tr>\n",
              "      <th>1</th>\n",
              "      <td>Friday</td>\n",
              "      <td>2035800</td>\n",
              "    </tr>\n",
              "    <tr>\n",
              "      <th>2</th>\n",
              "      <td>Monday</td>\n",
              "      <td>2009860</td>\n",
              "    </tr>\n",
              "    <tr>\n",
              "      <th>3</th>\n",
              "      <td>Thursday</td>\n",
              "      <td>1978001</td>\n",
              "    </tr>\n",
              "    <tr>\n",
              "      <th>4</th>\n",
              "      <td>Wednesday</td>\n",
              "      <td>1731401</td>\n",
              "    </tr>\n",
              "    <tr>\n",
              "      <th>5</th>\n",
              "      <td>Tuesday</td>\n",
              "      <td>1628702</td>\n",
              "    </tr>\n",
              "    <tr>\n",
              "      <th>6</th>\n",
              "      <td>Saturday</td>\n",
              "      <td>1514942</td>\n",
              "    </tr>\n",
              "  </tbody>\n",
              "</table>\n",
              "</div>"
            ],
            "text/plain": [
              "         Day  Austin Bergstrom International (AUS) \n",
              "0     Sunday                                2039338\n",
              "1     Friday                                2035800\n",
              "2     Monday                                2009860\n",
              "3   Thursday                                1978001\n",
              "4  Wednesday                                1731401\n",
              "5    Tuesday                                1628702\n",
              "6   Saturday                                1514942"
            ]
          },
          "metadata": {
            "tags": []
          },
          "execution_count": 191
        }
      ]
    },
    {
      "cell_type": "code",
      "metadata": {
        "colab": {
          "base_uri": "https://localhost:8080/",
          "height": 474
        },
        "id": "K31KpB6JzuwC",
        "outputId": "87e876b8-7f07-4d20-bb44-6e84687419e9"
      },
      "source": [
        "plt.figure(figsize=(10,5),dpi=100),\n",
        "plt.style.use('seaborn-talk')\n",
        "\n",
        "ax = sns.barplot(x=\"Day\",y=\"Austin Bergstrom International (AUS) \",data=busiest_day)\n",
        "\n",
        "plt.title(\"Total Passenger based on days of week\", weight=\"bold\", c=\"red\",fontsize=15)\n",
        "plt.xlabel(\"\")\n",
        "plt.ylabel(\"Total Passenger\",weight= \"bold\")\n",
        "plt.yticks(weight=\"bold\")\n",
        "plt.xticks(weight=\"bold\")\n",
        "plt.ylim(0,3000000)\n",
        "plt.show()"
      ],
      "execution_count": 192,
      "outputs": [
        {
          "output_type": "display_data",
          "data": {
            "image/png": "[encoded data removed]",
            "text/plain": [
              "<Figure size 1000x500 with 1 Axes>"
            ]
          },
          "metadata": {
            "tags": [],
            "needs_background": "light"
          }
        }
      ]
    },
    {
      "cell_type": "markdown",
      "metadata": {
        "id": "4IHvmneTTHRE"
      },
      "source": [
        "**Submitted By:**\n",
        "\n",
        "**Sakshi Pandey**\n",
        "\n",
        "**Indian Institute Of Technology, Indore**"
      ]
    }
  ]
}